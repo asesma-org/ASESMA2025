{
 "cells": [
  {
   "cell_type": "markdown",
   "id": "1afdcf81",
   "metadata": {},
   "source": [
    "# Supplementary notebook for <u>NLPP 4 OFDFT</u> project\n",
    "\n",
    "## Objective\n",
    " - Obtain a reference density for graphene.\n",
    " - We use `QEpy`: Quantum ESPRESSO in python.\n",
    " - We save the density in a `snpy` file to be read by the master notebook."
   ]
  },
  {
   "cell_type": "code",
   "execution_count": null,
   "id": "1e20fcc3",
   "metadata": {
    "tags": []
   },
   "outputs": [],
   "source": [
    "import numpy as np\n",
    "from qepy.io import QEInput\n",
    "from qepy.driver import Driver"
   ]
  },
  {
   "cell_type": "code",
   "execution_count": null,
   "id": "12b0a4d8",
   "metadata": {
    "tags": []
   },
   "outputs": [],
   "source": [
    "from ase.io.trajectory import Trajectory\n",
    "from ase.lattice.hexagonal import Graphene\n",
    "from ase import Atoms\n",
    "import matplotlib.pyplot as plt"
   ]
  },
  {
   "cell_type": "code",
   "execution_count": null,
   "id": "0f32a313",
   "metadata": {
    "tags": []
   },
   "outputs": [],
   "source": [
    "qe_options = {\n",
    "    '&control': {\n",
    "        'calculation': \"'scf'\",\n",
    "        'prefix': \"'tmp'\",\n",
    "        'pseudo_dir': \"'./'\"},\n",
    "    '&system': {\n",
    "        'ibrav' : 0,\n",
    "        'ecutwfc': 20,\n",
    "        'ecutrho': 200},\n",
    "    '&electrons': {\n",
    "        'conv_thr' : 1.0e-8},\n",
    "     'atomic_species': ['C 12.0107 C.upf'],\n",
    "     'k_points automatic': [' 9 9 1 0 0 0'],\n",
    "}"
   ]
  },
  {
   "cell_type": "code",
   "execution_count": null,
   "id": "294f6eec",
   "metadata": {
    "tags": []
   },
   "outputs": [],
   "source": [
    "atoms = Atoms(Graphene('C', latticeconstant={'a':2.46, 'c': 7}))"
   ]
  },
  {
   "cell_type": "code",
   "execution_count": null,
   "id": "7c3db9f0-00da-45f6-b95b-030013a3c4c9",
   "metadata": {
    "tags": []
   },
   "outputs": [],
   "source": [
    "driver = Driver(qe_options = qe_options, atoms=atoms)"
   ]
  },
  {
   "cell_type": "code",
   "execution_count": null,
   "id": "04e360e7",
   "metadata": {
    "tags": []
   },
   "outputs": [],
   "source": [
    "driver.scf()"
   ]
  },
  {
   "cell_type": "code",
   "execution_count": null,
   "id": "0ceb1742-dca1-4cf1-b317-bfd3f99ba615",
   "metadata": {
    "tags": []
   },
   "outputs": [],
   "source": [
    "driver.calc_energy()"
   ]
  },
  {
   "cell_type": "markdown",
   "id": "c56f8486",
   "metadata": {},
   "source": [
    "## Collect the electron density\n",
    " - First retrieve the gathered density as a Fortran-ordered numpy array."
   ]
  },
  {
   "cell_type": "code",
   "execution_count": null,
   "id": "3d6787f3-a200-4a9d-a5db-35aa04ec8f82",
   "metadata": {
    "tags": []
   },
   "outputs": [],
   "source": [
    "density = driver.get_density()"
   ]
  },
  {
   "cell_type": "markdown",
   "id": "1dfffba1",
   "metadata": {},
   "source": [
    " - Then transform it into a DFTpy `DirectField` which is a class to handle real-space grid functions."
   ]
  },
  {
   "cell_type": "code",
   "execution_count": null,
   "id": "ef06bbb8-55b8-4da3-b048-023380ae9f45",
   "metadata": {
    "tags": []
   },
   "outputs": [],
   "source": [
    "rho = driver.data2field(density)"
   ]
  },
  {
   "cell_type": "code",
   "execution_count": null,
   "id": "fba64718-c167-4bd2-a20e-87dc4126743b",
   "metadata": {
    "tags": []
   },
   "outputs": [],
   "source": [
    "ions = driver.get_dftpy_ions()"
   ]
  },
  {
   "cell_type": "markdown",
   "id": "315c16f1",
   "metadata": {},
   "source": [
    " - Write the density onto a `snpy` file."
   ]
  },
  {
   "cell_type": "code",
   "execution_count": null,
   "id": "7a2b9f60-689e-4959-8cd1-5086a286c51b",
   "metadata": {
    "tags": []
   },
   "outputs": [],
   "source": [
    "rho.write('rho.snpy', ions=ions)"
   ]
  },
  {
   "cell_type": "code",
   "execution_count": null,
   "id": "39f57c51",
   "metadata": {},
   "outputs": [],
   "source": []
  }
 ],
 "metadata": {
  "hide_input": false,
  "kernelspec": {
   "display_name": "Python 3 (ipykernel)",
   "language": "python",
   "name": "python3"
  },
  "language_info": {
   "codemirror_mode": {
    "name": "ipython",
    "version": 3
   },
   "file_extension": ".py",
   "mimetype": "text/x-python",
   "name": "python",
   "nbconvert_exporter": "python",
   "pygments_lexer": "ipython3",
   "version": "3.10.11"
  }
 },
 "nbformat": 4,
 "nbformat_minor": 5
}
