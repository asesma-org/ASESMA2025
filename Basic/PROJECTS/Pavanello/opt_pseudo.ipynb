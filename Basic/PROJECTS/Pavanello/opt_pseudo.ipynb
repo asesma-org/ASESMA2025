{
 "cells": [
  {
   "cell_type": "markdown",
   "metadata": {},
   "source": [
    "# Project <u>NLPP 4 OFDFT</u>\n",
    "### Instructors\n",
    " - Michele Pavanello (in-person)\n",
    " - Xuecheng Shao (remote, from Rutgers)\n",
    "### Objective\n",
    " - Resolve the issue of non-local pseudopotentials in OF-DFT and consequently be awarded the Nobel prize in Physics\n",
    "### Background\n",
    " - PPs are made of local, $v_{loc}(r)$, and non-local, $\\hat v_{NL}$, parts.\n",
    " - Local PPs are defined by <i>one-dimensional functions on a one-dimensional grid</i>\n",
    " - Non-local PPs are defined by projectors that are zero beyond a <b>cutoff radius (rcut)</b> \n",
    " - OF-DFT can only use <b>local PPs</b>\n",
    "### Idea and overview of workflow\n",
    " - Obtain the reference electron density by running KS-DFT (we will use QEpy, a python version of QE) with a standard PP.\n",
    " - Borrow the local part of the standard PP.\n",
    " - Define a <i>tunable</i> and <i>short range</i> (i.e., defined only for $r<rcut$) local PP, $\\delta_{pp}(r)$, to be added to the local part of the standard PP, $v_{new}(r) = v_{loc}(r)+\\delta_{pp}(r)$.\n",
    " - Minimize the density difference between the reference density and the OF-DFT density calculated with $v_{new}(r)$ using standard optimization techniques.\n",
    " - Ta-da! You have a new PP for OF-DFT that should be <b>much better</b> than the original PP.\n",
    "### Requirements\n",
    " - Working `Python` 3.10 or 3.11\n",
    " - Installation of a few packages: `dftpy`, `qepy`, `matplotlib`\n",
    " - Packages are available on Quantum Mobile or through `pip install`\n",
    " - run the `qepy_graphene.ipynb` notebook to generate a reference density for Carbon (used in this example)."
   ]
  },
  {
   "cell_type": "markdown",
   "metadata": {},
   "source": [
    "## 1. Set up"
   ]
  },
  {
   "cell_type": "markdown",
   "metadata": {},
   "source": [
    "#### Load dftpy-related stuff"
   ]
  },
  {
   "cell_type": "code",
   "execution_count": null,
   "metadata": {
    "tags": []
   },
   "outputs": [],
   "source": [
    "from dftpy.ions import Ions\n",
    "from dftpy.field import DirectField\n",
    "from dftpy.grid import DirectGrid\n",
    "from dftpy.functional import LocalPseudo, Functional, TotalFunctional\n",
    "from dftpy.formats import io\n",
    "from dftpy.optimization import Optimization\n",
    "from dftpy.mpi import sprint\n",
    "from dftpy.functional.pseudo.psp import PSP\n",
    "from dftpy.constants import environ"
   ]
  },
  {
   "cell_type": "markdown",
   "metadata": {},
   "source": [
    "#### Load numpy and some scipy methods"
   ]
  },
  {
   "cell_type": "code",
   "execution_count": null,
   "metadata": {
    "tags": []
   },
   "outputs": [],
   "source": [
    "import numpy as np\n",
    "from scipy.optimize import minimize\n",
    "from scipy.signal import quadratic"
   ]
  },
  {
   "cell_type": "markdown",
   "metadata": {},
   "source": [
    "## 2. Read the target density and PP file"
   ]
  },
  {
   "cell_type": "code",
   "execution_count": null,
   "metadata": {},
   "outputs": [],
   "source": [
    "ions, rho_target, _ = io.read_all('rho.snpy')\n",
    "grid = rho_target.grid\n",
    "PP_list = {'C': './C.upf'}\n",
    "# PP_list = {'C': './new.psp8'}"
   ]
  },
  {
   "cell_type": "code",
   "execution_count": null,
   "metadata": {},
   "outputs": [],
   "source": [
    "MaxPoints=1000 # number of points in the one-dimensional PP function\n",
    "PSEUDO = LocalPseudo(grid = grid, ions=ions, PP_list=PP_list, MaxPoints=MaxPoints)\n",
    "rho_ini = rho_target.copy()"
   ]
  },
  {
   "cell_type": "markdown",
   "metadata": {},
   "source": [
    "## 3. Load the needed density functionals\n",
    " - `KEDF` is the non-interacting kinetic energy functional, $T_s[n]$\n",
    " - `HARTREE` is the electrostatic electronic energy, $E_H[n]=\\frac{1}{2}\\int \\frac{n(\\mathbf{r})n(\\mathbf{r}^\\prime)}{|\\mathbf{r}-\\mathbf{r}^\\prime|}d\\mathbf{r}d\\mathbf{r}^\\prime$\n",
    " - `XC` is the exchange-correlation functional, $E_{xc}[n]$"
   ]
  },
  {
   "cell_type": "code",
   "execution_count": null,
   "metadata": {},
   "outputs": [],
   "source": [
    "# KE = Functional(type='KEDF',name='GGA_LKT')\n",
    "KE = Functional(type='KEDF',name='TFvW', y=0.2)\n",
    "XC = Functional(type='XC',name='LDA')\n",
    "HARTREE = Functional(type='HARTREE')"
   ]
  },
  {
   "cell_type": "markdown",
   "metadata": {},
   "source": [
    "## 4. Define the `total energy` functional"
   ]
  },
  {
   "cell_type": "code",
   "execution_count": null,
   "metadata": {},
   "outputs": [],
   "source": [
    "evaluator = TotalFunctional(KE=KE, XC=XC, HARTREE=HARTREE, PSEUDO=PSEUDO)"
   ]
  },
  {
   "cell_type": "markdown",
   "metadata": {},
   "source": [
    "## 5. Find optimal electron density with DFTpy's density optimizer"
   ]
  },
  {
   "cell_type": "code",
   "execution_count": null,
   "metadata": {},
   "outputs": [],
   "source": [
    "optimization_options = {'econv' : 1e-6*ions.nat}\n",
    "opt = Optimization(EnergyEvaluator=evaluator, optimization_options = optimization_options, optimization_method = 'TN')\n",
    "rho = opt.optimize_rho(guess_rho=rho_ini)"
   ]
  },
  {
   "cell_type": "markdown",
   "metadata": {},
   "source": [
    "## 6. How much does the OF-DFT density deviate from the KS-DFT reference?\n",
    " - We use the expression\n",
    "$$\n",
    "\\Delta n = \\frac{1}{2}\\int |n_\\text{target}(\\mathbf{r}) - n(\\mathbf{r})| d\\mathbf{r}\n",
    "$$"
   ]
  },
  {
   "cell_type": "code",
   "execution_count": null,
   "metadata": {},
   "outputs": [],
   "source": [
    "np.abs(rho_target-rho).integral()/2"
   ]
  },
  {
   "cell_type": "markdown",
   "metadata": {},
   "source": [
    " - We hope to improve this number with the new, custom PP."
   ]
  },
  {
   "cell_type": "markdown",
   "metadata": {},
   "source": [
    "## 7. Make your own tunable short range PP, $\\delta_{PP}(r)$\n",
    " - the `a[i]` list is a list of parameters to be optimized, that is:\n",
    " $$\\min_a\\{ \\Delta n \\}$$\n",
    " - One option using polynomials up to 3rd order"
   ]
  },
  {
   "cell_type": "code",
   "execution_count": null,
   "metadata": {
    "tags": []
   },
   "outputs": [],
   "source": [
    "def delta_pp(r, rcut, a):\n",
    "    d = r - rcut\n",
    "    v = a[0]*d + a[1]*d**2 + a[2]*d**3\n",
    "    v[r>rcut] = 0.0\n",
    "    return v"
   ]
  },
  {
   "cell_type": "markdown",
   "metadata": {},
   "source": [
    " - Another option to add a term that goes like 1/r"
   ]
  },
  {
   "cell_type": "code",
   "execution_count": null,
   "metadata": {},
   "outputs": [],
   "source": [
    "def delta_pp(r, rcut, a):\n",
    "    d = r - rcut\n",
    "    v = a[0]*d + a[1]*d**2 + a[2]*d**3 + a[3]*(1/(r+0.1)-1/(rcut+0.1))\n",
    "    v[r>rcut] = 0.0\n",
    "    return v\n"
   ]
  },
  {
   "cell_type": "markdown",
   "metadata": {},
   "source": [
    " - What other function would you like to try?"
   ]
  },
  {
   "cell_type": "markdown",
   "metadata": {},
   "source": [
    "## 8. Represent the new tunable short range PP on the simulation grid"
   ]
  },
  {
   "cell_type": "code",
   "execution_count": null,
   "metadata": {},
   "outputs": [],
   "source": [
    "def lpp2vloc(r, v, ions, grid, zval=0.0):\n",
    "    engine = PSP(None)\n",
    "    engine.r = r\n",
    "    engine.v = v\n",
    "    engine._zval = zval\n",
    "    pseudo = LocalPseudo(grid = grid, ions=ions, PP_list={'C':engine}, MaxPoints=MaxPoints)\n",
    "    pseudo.local_PP()\n",
    "    return pseudo._vreal"
   ]
  },
  {
   "cell_type": "markdown",
   "metadata": {},
   "source": [
    "## 9. Run the optimization"
   ]
  },
  {
   "cell_type": "code",
   "execution_count": null,
   "metadata": {
    "tags": []
   },
   "outputs": [],
   "source": [
    "grid = rho_target.grid\n",
    "rcut = 1.3\n",
    "r = np.linspace(0, rcut, 100)\n",
    "# a = [-0.77646192, 0.33666482, 10.04099905]\n",
    "a = np.zeros(5)\n",
    "\n",
    "ext = Functional(type='EXT')\n",
    "evaluator.UpdateFunctional(newFuncDict={'EXT': ext})\n",
    "\n",
    "opt = Optimization(EnergyEvaluator=evaluator)\n",
    "\n",
    "rho_ini = rho_target.copy()\n",
    "environ['LOGLEVEL'] = 4\n",
    "def delta_rho(a):\n",
    "    v = delta_pp(r, rcut, a)\n",
    "    ext.v = lpp2vloc(r, v, ions, grid)\n",
    "    rho = opt.optimize_rho(guess_rho=rho_ini)\n",
    "    rho_ini[:]=rho\n",
    "    diff = 0.5 * (np.abs(rho - rho_target)).integral()\n",
    "    print('aa:', a, diff)\n",
    "    return diff\n",
    "\n",
    "res = minimize(delta_rho, a, method='Powell', tol=1.0e-3)\n",
    "environ['LOGLEVEL'] = 2"
   ]
  },
  {
   "cell_type": "markdown",
   "metadata": {},
   "source": [
    "## 10. Copy resulting PP in a standard PP file format (to be used later)\n",
    " - First set the PP writer (called `engine` here)"
   ]
  },
  {
   "cell_type": "code",
   "execution_count": null,
   "metadata": {
    "tags": []
   },
   "outputs": [],
   "source": [
    "a = res.x\n",
    "key = 'C'\n",
    "r = PSEUDO.readpp.pp[key].r\n",
    "vl = PSEUDO.readpp.pp[key].v\n",
    "v = delta_pp(r, rcut, a)\n",
    "v += vl\n",
    "\n",
    "engine = PSP(None)\n",
    "engine.r = r\n",
    "engine.v = v\n",
    "engine.info['atomicnum'] = 6\n",
    "engine._zval = 4.0"
   ]
  },
  {
   "cell_type": "markdown",
   "metadata": {},
   "source": [
    " - `engine` allows us to plot the PP"
   ]
  },
  {
   "cell_type": "code",
   "execution_count": null,
   "metadata": {
    "tags": []
   },
   "outputs": [],
   "source": [
    "import matplotlib.pyplot as plt\n",
    "plt.plot(r,v)"
   ]
  },
  {
   "cell_type": "markdown",
   "metadata": {},
   "source": [
    " - Finally, write the PP"
   ]
  },
  {
   "cell_type": "code",
   "execution_count": null,
   "metadata": {
    "tags": []
   },
   "outputs": [],
   "source": [
    "engine.write('new.psp8')"
   ]
  }
 ],
 "metadata": {
  "hide_input": false,
  "kernelspec": {
   "display_name": "Python 3 (ipykernel)",
   "language": "python",
   "name": "python3"
  },
  "language_info": {
   "codemirror_mode": {
    "name": "ipython",
    "version": 3
   },
   "file_extension": ".py",
   "mimetype": "text/x-python",
   "name": "python",
   "nbconvert_exporter": "python",
   "pygments_lexer": "ipython3",
   "version": "3.10.11"
  }
 },
 "nbformat": 4,
 "nbformat_minor": 4
}
