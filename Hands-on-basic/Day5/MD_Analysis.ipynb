{
 "cells": [
  {
   "cell_type": "code",
   "execution_count": null,
   "id": "88b8f07a-fc72-46e1-80ac-1503beba54c5",
   "metadata": {},
   "outputs": [],
   "source": [
    "import numpy as np\n",
    "import matplotlib.pyplot as plt\n",
    "import matplotlib.ticker as ticker\n",
    "from MD_utils import read_xyz_file, trajectory_to_xyz"
   ]
  },
  {
   "cell_type": "markdown",
   "id": "fe19f04f-ab63-4917-88f0-b1a528b41967",
   "metadata": {},
   "source": [
    "# MD Properties"
   ]
  },
  {
   "cell_type": "markdown",
   "id": "49333fca-6970-4819-b282-db741f8e7676",
   "metadata": {},
   "source": [
    "## Excercise 0: Loading and Parameters"
   ]
  },
  {
   "cell_type": "markdown",
   "id": "6c404677-0a33-4e29-b388-a68ba4867cab",
   "metadata": {},
   "source": [
    "### Loading Data"
   ]
  },
  {
   "cell_type": "code",
   "execution_count": null,
   "id": "b6349391-910a-4a14-98d9-7d8e075c93dc",
   "metadata": {},
   "outputs": [],
   "source": [
    "Trajectory = read_xyz_file(\"trajectory.xyz\")  # Position of the atoms in angstrom\n",
    "Trajectory.shape"
   ]
  },
  {
   "cell_type": "markdown",
   "id": "82b42c0f-42e1-4ab4-a723-25b3a84d2616",
   "metadata": {},
   "source": [
    "### Simulation parameters"
   ]
  },
  {
   "cell_type": "code",
   "execution_count": null,
   "id": "5ae1ef9e-94db-45cd-bcf2-45f3c072c68d",
   "metadata": {},
   "outputs": [],
   "source": [
    "N_atoms = Trajectory.shape[1]\n",
    "dt_sampling = 10\n",
    "dt_reduced = 0.005\n",
    "rho_reduced = 0.84\n",
    "N_box = 6"
   ]
  },
  {
   "cell_type": "markdown",
   "id": "7344a126-2625-4268-8645-b76ec2f60248",
   "metadata": {},
   "source": [
    "### Physical units parameters"
   ]
  },
  {
   "cell_type": "code",
   "execution_count": null,
   "id": "44443cf7-0643-4e0b-9250-c5f8b01791ba",
   "metadata": {},
   "outputs": [],
   "source": [
    "sigma_angstrom = 3.4\n",
    "sigma_m = sigma_angstrom * 1e-10\n",
    "eps_joule = 120 * 1.380649e-23\n",
    "mass_kg = 39.948 * 1.66054e-27\n",
    "tau = sigma_m * (mass_kg / eps_joule) ** 0.5  # in seconds\n",
    "tau_ps = tau * 1e12  # convert to picoseconds\n",
    "\n",
    "dt_ps = dt_reduced * tau_ps * dt_sampling  # in picoseconds"
   ]
  },
  {
   "cell_type": "markdown",
   "id": "bb5503e4-dedf-4252-ad96-cd921b6fbb72",
   "metadata": {},
   "source": [
    "### Removing equilibration"
   ]
  },
  {
   "cell_type": "code",
   "execution_count": null,
   "id": "e6966ab2-918b-4010-aee2-4cadbc3a66ef",
   "metadata": {},
   "outputs": [],
   "source": [
    "N_frames = 200\n",
    "Trajectory = Trajectory[-N_frames:]\n",
    "Trajectory.shape"
   ]
  },
  {
   "cell_type": "markdown",
   "id": "356df87e-54ca-492c-87f6-1fd16e44fdb2",
   "metadata": {},
   "source": [
    "### Time array and L_box"
   ]
  },
  {
   "cell_type": "code",
   "execution_count": null,
   "id": "17942bd0-0f02-4fca-ab0e-b2457add45cc",
   "metadata": {},
   "outputs": [],
   "source": [
    "time = np.arange(N_frames) * dt_ps  # time array in ps\n",
    "L_box = ((4/rho_reduced)**(1./3.))* sigma_angstrom * N_box # L_box in angstroms"
   ]
  },
  {
   "cell_type": "markdown",
   "id": "945edbe2-b627-4004-a254-ad215484b7c2",
   "metadata": {},
   "source": [
    "## Excercise 1:"
   ]
  },
  {
   "cell_type": "code",
   "execution_count": null,
   "id": "72f45207-4f11-47cd-bb31-4e6969519a78",
   "metadata": {},
   "outputs": [],
   "source": [
    "def unwrap_trajectory(trajectory_wrapped):\n",
    "    '''\n",
    "    Unwrap the trajectory!\n",
    "    '''\n",
    "    \n",
    "    unwrapped = np.zeros_like(trajectory_wrapped)\n",
    "    unwrapped[0] = trajectory_wrapped[0]\n",
    "\n",
    "    jumps_cumulated = np.zeros((N_atoms, 3))  # counts boundary crossings\n",
    "\n",
    "    for t in range(N_frames - 1):\n",
    "        \n",
    "        delta =                             # delta in real units\n",
    "        \n",
    "        current_jumps = np.rint(delta / L_box)\n",
    "\n",
    "        \n",
    "        # Update jumps_cumulated\n",
    "\n",
    "\n",
    "        # Reconstruct next unwrapped position\n",
    "        unwrapped[t + 1] = \n",
    "\n",
    "    return unwrapped"
   ]
  },
  {
   "cell_type": "code",
   "execution_count": null,
   "id": "a5b90ac8-615f-48b1-b14a-88cea219f6f4",
   "metadata": {},
   "outputs": [],
   "source": [
    "unwrap_traj = unwrap_trajectory(Trajectory)"
   ]
  },
  {
   "cell_type": "markdown",
   "id": "6abe83a1-84ef-437d-b58e-aad418a3d6cc",
   "metadata": {},
   "source": [
    "The function below allows you to create an xyz file from out Python arrays to visualize it in VMD!. Does your unwrapped trajectory looks reasonable? With the incorrect signs, the trajectory would look unreasonable..."
   ]
  },
  {
   "cell_type": "code",
   "execution_count": null,
   "id": "7e6ca15a-2403-454d-81ea-291f13deeaa0",
   "metadata": {},
   "outputs": [],
   "source": [
    "trajectory_to_xyz(unwrap_traj, filename=\"unwrap_trajectory.xyz\")"
   ]
  },
  {
   "cell_type": "code",
   "execution_count": null,
   "id": "dec91215-a16f-460c-9381-7303b79074a0",
   "metadata": {},
   "outputs": [],
   "source": [
    "def compute_msd(unwrapped):\n",
    "    '''\n",
    "    Compute the mean squared displacement!\n",
    "    '''\n",
    "    r0 = unwrapped[0]  # initial positions\n",
    "\n",
    "    displacements = unwrapped - r0  # displacement from initial position\n",
    "    \n",
    "    return msd\n"
   ]
  },
  {
   "cell_type": "code",
   "execution_count": null,
   "id": "ffb5c35f-0ded-4dfc-8d09-4dbb7914b9d0",
   "metadata": {},
   "outputs": [],
   "source": [
    "msd = compute_msd(unwrap_traj)"
   ]
  },
  {
   "cell_type": "code",
   "execution_count": null,
   "id": "354bb5aa-07ac-4b91-a45a-0500cf564233",
   "metadata": {},
   "outputs": [],
   "source": [
    "plt.plot(time, msd, label='MSD (Argon)')\n",
    "plt.xlabel(\"Time [ps]\")\n",
    "plt.ylabel(\"MSD [$\\mathrm{Å}^2$]\")\n",
    "plt.title(\"Mean Square Displacement of Argon\")\n",
    "plt.grid(True)\n",
    "plt.legend()\n",
    "plt.tight_layout()\n",
    "plt.show()"
   ]
  },
  {
   "cell_type": "markdown",
   "id": "5b3a2fab-81e0-4ccb-a92c-34cdfe4f4abd",
   "metadata": {},
   "source": [
    "Did you find a linear behaviour? What is the diffusion coefficient? What is the value of the difussion coefficient in cm^2/s?"
   ]
  },
  {
   "cell_type": "markdown",
   "id": "e1bdc880-e585-4b99-a5b8-994ce802cb13",
   "metadata": {},
   "source": [
    "#### To discuss with your neighrest neighbor(s):"
   ]
  },
  {
   "cell_type": "markdown",
   "id": "8fc5ee79-c9e2-4055-a56b-76dc70a8c820",
   "metadata": {},
   "source": [
    "- Do you think the data is from a system in solid, liquid or gas state?\n",
    "- Can you discard any of these states from the plot?"
   ]
  },
  {
   "cell_type": "markdown",
   "id": "10bd86d7-0767-4cb4-8542-ca558462b84b",
   "metadata": {},
   "source": [
    "# Excercise 2"
   ]
  },
  {
   "cell_type": "code",
   "execution_count": null,
   "id": "2d7abd03-7581-444e-bf1d-864e7a95bebf",
   "metadata": {},
   "outputs": [],
   "source": [
    "N_bins = 512\n",
    "rmax = np.sqrt(3*L_box**2)/2\n",
    "L_bin=rmax/N_bins\n",
    "g_counter=np.zeros(N_bins)"
   ]
  },
  {
   "cell_type": "code",
   "execution_count": null,
   "id": "195cebc0-0262-4112-a4e3-2723c74625c3",
   "metadata": {},
   "outputs": [],
   "source": [
    "def counting_distances_frame(i):\n",
    "    '''\n",
    "    Add the distances to g_counter corresponding to the i-th frame\n",
    "    '''\n",
    "    rx = Trajectory[i][:,0];\n",
    "    ry = Trajectory[i][:,1];\n",
    "    rz = Trajectory[i][:,2];\n",
    "    \n",
    "    for k in range(N_atoms-1):\n",
    "        j=k+1                \n",
    "\n",
    "        # Distances to atoms with superior index (not normalized)\n",
    "        dx = (rx[k]-rx[j:N_atoms])\n",
    "        dy = (ry[k]-ry[j:N_atoms])\n",
    "        dz = (rz[k]-rz[j:N_atoms])\n",
    "\n",
    "        # Apply minimum image convention to dx, dy and dz\n",
    "\n",
    "        \n",
    "\n",
    "        # dx, dy and dz already with the minimum image convention in real units.\n",
    "        r2 = dx*dx + dy*dy + dz*dz\n",
    "        r = np.sqrt(r2)\n",
    "        \n",
    "        for corrected_distance in r:\n",
    "            g_counter[?] += 2    # Find the expression for ?"
   ]
  },
  {
   "cell_type": "markdown",
   "id": "70e1f162-9ec8-46f9-8fef-13ea331a058a",
   "metadata": {},
   "source": [
    "Plot the unnormalized g(r) for the time frame 0! And compare it with the plots of the people who have already plotted it. We will see later that after certain r, we have a numerical artifact, so we are going to the plot for a range where this artifact is not present!"
   ]
  },
  {
   "cell_type": "code",
   "execution_count": null,
   "id": "4521ef84-df36-402f-b02e-7672d03cee41",
   "metadata": {},
   "outputs": [],
   "source": [
    "# Plot g_counter for a specific time frame\n",
    "rs = L_bin*range(N_bins) # Array for the plot\n",
    "g_counter=np.zeros(N_bins)\n",
    "counting_distances_frame(0)      # After this line g_counter has the counted and sorted the distances of the very first frame\n",
    "plt.plot(rs[:250],g_counter[:250])\n",
    "plt.xlabel(\"r [Å]\")\n",
    "plt.ylabel(\"g(r)\")\n",
    "plt.grid(True)\n",
    "plt.title(\"Unnormalized g(r)\")\n",
    "plt.tight_layout()\n",
    "plt.show()"
   ]
  },
  {
   "cell_type": "markdown",
   "id": "fae3d475-3261-45f2-b586-0847a303e63e",
   "metadata": {},
   "source": [
    "### To discuss: \n",
    "- Does it change qualitatively when you plot it for different time frames?\n",
    "- Can you explain its shape?\n",
    "- What would be the correct normalization?\n",
    "\n",
    "After normalization, may be it becomes clearer!"
   ]
  },
  {
   "cell_type": "markdown",
   "id": "d2077073-dbc9-4d58-b4e0-29b53d28e5e4",
   "metadata": {},
   "source": [
    "If you are very fast and you are convinced that your plot is correct you can try to normalize it! In the second half of the exercise, we create the array g_normalization, such that g_counter/g_normalization gives us the normalized radial distribution function g(r)."
   ]
  },
  {
   "cell_type": "markdown",
   "id": "be2f0435-f347-44fb-9513-7a0e3174b4d0",
   "metadata": {},
   "source": [
    "Let's normalize:"
   ]
  },
  {
   "cell_type": "code",
   "execution_count": null,
   "id": "d42f33f4-0c9c-4c82-b0cc-303a04aaa7ad",
   "metadata": {},
   "outputs": [],
   "source": [
    "g_normalization = np.zeros(N_bins)\n",
    "for i in range(N_bins):\n",
    "    g_normalization[i] =               # Compute the normalization such that g(r) = g_counter/g_normalization "
   ]
  },
  {
   "cell_type": "markdown",
   "id": "fa5e753f-357c-4b98-acb4-72dc0bdb367e",
   "metadata": {},
   "source": [
    "Let's plot again for one time frame. "
   ]
  },
  {
   "cell_type": "code",
   "execution_count": null,
   "id": "4be8a066-5692-4eba-b436-f95859599df8",
   "metadata": {},
   "outputs": [],
   "source": [
    "g_counter=np.zeros(N_bins)\n",
    "counting_distances_frame(0)\n",
    "g_r_single_frame = g_counter/g_normalization\n",
    "plt.plot(rs[:250], g_r_single_frame[:250])\n",
    "plt.xlabel(\"r [Å]\")\n",
    "plt.ylabel(\"g(r)\")\n",
    "plt.title(\"g(r) for a single frame with wrong normalization\")\n",
    "plt.grid(True)\n",
    "plt.tight_layout()"
   ]
  },
  {
   "cell_type": "markdown",
   "id": "a4d6133d-aea3-4186-a913-f1d638a01361",
   "metadata": {},
   "source": [
    "The normalization was made to average over all time frames too, so only the shape is relevant in the previous plot, not the exact values! "
   ]
  },
  {
   "cell_type": "markdown",
   "id": "5491f43d-4081-4edb-9df3-175f59131ff2",
   "metadata": {},
   "source": [
    "And now the proper radial distribution function g(r):"
   ]
  },
  {
   "cell_type": "code",
   "execution_count": null,
   "id": "f4ed7a06-af9d-41db-bf15-76cf5501dea3",
   "metadata": {},
   "outputs": [],
   "source": [
    "g_counter=np.zeros(N_bins)\n",
    "for i in range(N_frames):\n",
    "    counting_distances_frame(i)\n",
    "g_r = g_counter/g_normalization)\n",
    "plt.plot( r,g_r )"
   ]
  },
  {
   "cell_type": "markdown",
   "id": "cc5f02d5-95b2-4c74-ac13-d5a17f952d4a",
   "metadata": {},
   "source": [
    "#### To discuss with your neighrest neighbor(s):"
   ]
  },
  {
   "cell_type": "markdown",
   "id": "9f504aad-b0c2-41d2-8e02-cebd3508fcca",
   "metadata": {},
   "source": [
    "- Do you think the data is from a system in solid, liquid or gaseous state?\n",
    "- How would you expect this plot for a system in a solid, a liquid and a gaseous state?"
   ]
  },
  {
   "cell_type": "markdown",
   "id": "656dcc3d-a7ca-4d7c-a39c-4c09d607229f",
   "metadata": {},
   "source": [
    "### In case you were too quick!"
   ]
  },
  {
   "cell_type": "markdown",
   "id": "8d4ecf64-a568-4dd8-a76d-2dd2c294950d",
   "metadata": {},
   "source": [
    "It seems that we have an artifact when we plot g(r) from 0 to rmax. At some radious the function g(r) starts decaying and it shoudln't. \n",
    " - Can you identify where is the problem?\n",
    " - How would you modify g_(r) such that we avoid the artifact?"
   ]
  },
  {
   "cell_type": "markdown",
   "id": "48e38a8d-ea2b-49eb-8d50-b24b63d48aaf",
   "metadata": {},
   "source": [
    "# Exercise 3"
   ]
  },
  {
   "cell_type": "markdown",
   "id": "7449bcd0-abde-4691-b124-16768c56f056",
   "metadata": {},
   "source": [
    "### Load Velocities"
   ]
  },
  {
   "cell_type": "code",
   "execution_count": null,
   "id": "32f3f1f5-63fc-4b3a-aada-c061e6a348cd",
   "metadata": {},
   "outputs": [],
   "source": [
    "Velocity = read_xyz_file(\"velocities.xyz\")"
   ]
  },
  {
   "cell_type": "markdown",
   "id": "1f3b2ff7-4f24-4149-8739-408a7effdc65",
   "metadata": {},
   "source": [
    "### Removing equilibration"
   ]
  },
  {
   "cell_type": "code",
   "execution_count": null,
   "id": "be41ee62-fd11-4064-a82b-eeaf0b3ef205",
   "metadata": {},
   "outputs": [],
   "source": [
    "Velocity = Velocity[-N_frames:]"
   ]
  },
  {
   "cell_type": "markdown",
   "id": "30deb60a-aa2f-458f-b8ae-1231764b1743",
   "metadata": {},
   "source": [
    "Compute "
   ]
  },
  {
   "cell_type": "code",
   "execution_count": null,
   "id": "8aab57be-4132-4ce6-90ce-687bc8e6c099",
   "metadata": {},
   "outputs": [],
   "source": [
    "def compute_vacf(vels):\n",
    "    '''\n",
    "    Compute the velocity autocorrelation function\n",
    "    '''\n",
    "    vacf = np.zeros(N_frames)\n",
    "    for lag in range(N_frames):\n",
    "        dot_sum = 0.0\n",
    "        count = 0\n",
    "        for t in range(N_frames - lag):\n",
    "            v0 = vels[t]\n",
    "            vlag = vels[t + lag]\n",
    "            dot_sum +=           # Complete the function!\n",
    "            count += N_atoms\n",
    "        vacf[lag] = dot_sum / count\n",
    "    return vacf"
   ]
  },
  {
   "cell_type": "code",
   "execution_count": null,
   "id": "f5634928-df08-41fe-93c7-88ff2793d643",
   "metadata": {},
   "outputs": [],
   "source": [
    "vacf=compute_vacf(Velocity)"
   ]
  },
  {
   "cell_type": "code",
   "execution_count": null,
   "id": "e0581cd4-438a-48da-80d4-57251c94334f",
   "metadata": {},
   "outputs": [],
   "source": [
    "plt.plot(time[:20], vacf[:20])\n",
    "ax = plt.gca()\n",
    "ax.xaxis.set_major_locator(ticker.MaxNLocator(10))  # up to 10 x-ticks\n",
    "ax.yaxis.set_major_locator(ticker.MaxNLocator(10))  # up to 10 y-ticks\n",
    "plt.grid(True)\n",
    "plt.xlabel(\"VACF(τ)\")\n",
    "plt.ylabel(\"τ [ps]\")\n",
    "plt.grid(True)\n",
    "plt.title(\"Velocity Autocorrelation Function\")\n",
    "plt.tight_layout()\n",
    "plt.show()"
   ]
  },
  {
   "cell_type": "markdown",
   "id": "bf9a7474-6c81-44fb-8ff9-5f7b5ba02fc6",
   "metadata": {},
   "source": [
    "### To discuss with your nearest neighbors:\n",
    "    - What is the meaning of negative values of the VACF?\n",
    "    - What shape of the velocity autocorrelation function would you expect for a system in solid, liquid and gaseous state?\n",
    "    - What would be a system whose vacf(τ) = 1?\n",
    "    - What would be a system whose vacf(τ) is a square wave function alternating between 1 and -1 with constant period and instantaneous transitions?"
   ]
  },
  {
   "cell_type": "markdown",
   "id": "5dbba78e-194b-4dd3-b87b-3a5572768fb8",
   "metadata": {},
   "source": [
    "#### If you are too fast...\n",
    "Instead of two np.sum(), write the missing line with one np.mean() and one np.sum(). You will need to modify the normalizations due to averages!"
   ]
  }
 ],
 "metadata": {
  "kernelspec": {
   "display_name": "Python 3 (ipykernel)",
   "language": "python",
   "name": "python3"
  },
  "language_info": {
   "codemirror_mode": {
    "name": "ipython",
    "version": 3
   },
   "file_extension": ".py",
   "mimetype": "text/x-python",
   "name": "python",
   "nbconvert_exporter": "python",
   "pygments_lexer": "ipython3",
   "version": "3.10.12"
  }
 },
 "nbformat": 4,
 "nbformat_minor": 5
}
