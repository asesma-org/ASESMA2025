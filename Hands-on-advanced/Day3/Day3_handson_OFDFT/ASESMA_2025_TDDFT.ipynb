{
 "cells": [
  {
   "cell_type": "markdown",
   "id": "7d9a999c",
   "metadata": {
    "slideshow": {
     "slide_type": "slide"
    }
   },
   "source": [
    "<center>\n",
    "    <h1>Real-Time Kohn-Sham and Orbital-Free TDDFT</h1>\n",
    "<center>\n",
    "<br>\n",
    "<table>\n",
    "  <tr>\n",
    "      <td><p><h1>Team Rutgers</h1></p><p><h2>(Michele, Ezekiel & Valeria)</h2></p><p><h2>Rutgers University-Newark</h2></p></td> \n",
    "      <td><img src=\"./figures/logos/ASESMA_logo.png\" width=300 height=300 /></td>\n",
    "  </tr>\n",
    "  <tr>\n",
    "    <td></td>\n",
    "    <td> https://prg.rutgers.edu</td>\n",
    "  </tr>\n",
    "</table>\n",
    "<br>\n",
    "<h3>Retrieve this presentation at:</h3>\n",
    "<br>\n",
    "<center>https://github.com/Quantum-MultiScale-Template/DFT-Intro/2025/ASESMA_2025_TDDFT.ipynb</center>\n",
    "\n",
    "<br>\n",
    "\n",
    "<center><h3>ASESMA 2025 -- Accra, Ghana -- June 11, 2025</h3></center>\n"
   ]
  },
  {
   "cell_type": "markdown",
   "id": "ac38a304",
   "metadata": {
    "slideshow": {
     "slide_type": "slide"
    }
   },
   "source": [
    "# Goals of this lecture + hands-on session\n",
    "\n",
    "### Part I\n",
    "- The meaning and usefulness of DFT orbitals and orbital energies\n",
    "- ...and a little bit of orbital-free DFT\n",
    "\n",
    "### Part II\n",
    "- Basic theory of KS/OF TDDFT\n",
    "- Real-time KS/OF TDDFT\n",
    "- TDDFT based on KS for valence excitations\n",
    "- TDDFT based on OF for plasmonic excitations\n",
    "\n",
    "### Part III (later)\n",
    "- Hands on: run real-time TDDFT simulations of plasmonic nanoparticles with DFTpy"
   ]
  },
  {
   "cell_type": "markdown",
   "id": "02ec0743",
   "metadata": {
    "slideshow": {
     "slide_type": "slide"
    }
   },
   "source": [
    "# PART I: Orbitals and orbital energies"
   ]
  },
  {
   "cell_type": "markdown",
   "id": "94fd7607",
   "metadata": {
    "slideshow": {
     "slide_type": "slide"
    }
   },
   "source": [
    "# DFT: a theory of maps\n",
    "<br>\n",
    "<br>\n",
    "<center>\n",
    "    <img src=\"figures/science/maps.png\" width=1000 />\n",
    "</center>"
   ]
  },
  {
   "cell_type": "markdown",
   "id": "e79636b0",
   "metadata": {
    "slideshow": {
     "slide_type": "slide"
    }
   },
   "source": [
    "# Relevant equations for the ground state:"
   ]
  },
  {
   "cell_type": "markdown",
   "id": "bf9582ae",
   "metadata": {
    "slideshow": {
     "slide_type": "fragment"
    }
   },
   "source": [
    "<br>\n",
    "\n",
    "<center><h3>KS-DFT $\\to \\Phi_0$ is a Slater Determinant (Fermion)</h3></center>\n",
    "$$-\\frac{1}{2}\\nabla^2 \\psi_i(r) + \\color{red}{v_s(r)}\\psi_i(r) = \\varepsilon_i\\psi_i(r) \\to n(r)=\\sum_i n_i |\\psi_i(r)|^2\\\\ \\text{ where } N=\\sum_i n_i$$"
   ]
  },
  {
   "cell_type": "markdown",
   "id": "a5dc4719",
   "metadata": {
    "slideshow": {
     "slide_type": "fragment"
    }
   },
   "source": [
    "<center><h3>OF-DFT $\\to \\Phi_0$ is a Hartree product (Boson)</h3></center>\n",
    "$$-\\frac{1}{2}\\nabla^2 \\phi(r) + \\color{blue}{v_B(r)}\\phi(r) = \\mu\\phi(r) \\to n(r)=N|\\phi(r)|^2$$\n",
    "\n",
    "<br>\n"
   ]
  },
  {
   "cell_type": "markdown",
   "id": "58911dd5",
   "metadata": {
    "slideshow": {
     "slide_type": "fragment"
    }
   },
   "source": [
    "<center>\n",
    "    <div class=\"alert alert-warning\">$\\color{red}{v_s(r)}$ and $\\color{blue}{v_B(r)}$ are defined as those potentials that produce a ground state density, $n(r)$, <b> that matches the real density</b></div>\n",
    "        </center>"
   ]
  },
  {
   "cell_type": "markdown",
   "id": "f44ebca8",
   "metadata": {
    "slideshow": {
     "slide_type": "slide"
    }
   },
   "source": [
    "# Challenge 1\n",
    "\n",
    "- Fetching from Richard's lecture, \n",
    "$$E[n] = T_s[n] + E_H[n] + E_{xc}[n] + \\int v_{ext}(r)n(r)dr$$ show that $\\color{red}{v_s(r) \\equiv \\frac{\\delta (E-T_s)}{\\delta n(r)}= v_{ext}(r) + v_H(r) + v_{xc}(r)}$"
   ]
  },
  {
   "cell_type": "markdown",
   "id": "89ce0847",
   "metadata": {
    "slideshow": {
     "slide_type": "slide"
    }
   },
   "source": [
    "# The OF-DFT KS equation\n"
   ]
  },
  {
   "cell_type": "markdown",
   "id": "df57b20f",
   "metadata": {
    "slideshow": {
     "slide_type": "fragment"
    }
   },
   "source": [
    "In orbital-free DFT\n",
    "\n",
    "$$T_s[n]=T_{vW}[n] + {T_P[n]}$$"
   ]
  },
  {
   "cell_type": "markdown",
   "id": "bb71c435",
   "metadata": {
    "slideshow": {
     "slide_type": "fragment"
    }
   },
   "source": [
    "<center>\n",
    "    <div class=\"alert alert-warning\">$T_{vW}[n]=-\\frac{1}{2}\\langle\\sqrt{n}|\\nabla^2 \\sqrt{n}\\rangle = -\\frac{N}{2}\\langle\\phi|\\nabla^2 | \\phi\\rangle $ is the <b>von Weizsäcker</b> kinetic energy, and $T_P[n]$ the (unknown) <b>Pauli kinetic energy.</b></div>\n",
    "</center>"
   ]
  },
  {
   "cell_type": "markdown",
   "id": "9e0321e5",
   "metadata": {
    "slideshow": {
     "slide_type": "fragment"
    }
   },
   "source": [
    "<center>\n",
    "    <div class=\"alert alert-success\">\n",
    "    $$\n",
    "    \\mathcal{L}_{OF}[\\phi] = -\\frac{N}{2}\\langle\\phi|\\nabla^2 | \\phi\\rangle + T_P[n] + E_H[n]+E_{xc}[n] + \\int v_{ext}(r)n(r)dr - \\mu \\left( \\int n(r) dr - N \\right)\n",
    "    $$\n",
    "        then, must impose stationarity wrt the variational function, either $n(r)$ or $\\phi(r)= \\frac{1}{\\sqrt{N}}\\sqrt{n(r)}$.\n",
    "    </div>\n",
    "</center>"
   ]
  },
  {
   "cell_type": "markdown",
   "id": "e6aff001",
   "metadata": {
    "slideshow": {
     "slide_type": "fragment"
    }
   },
   "source": [
    "<center>\n",
    "    <div class=\"alert alert-success\">\n",
    "        <a href=\"https://pubs.acs.org/doi/full/10.1021/acs.chemrev.2c00758\">Check out this Chemical Reviews article for details.</a>\n",
    "    </div>\n",
    "</center>"
   ]
  },
  {
   "cell_type": "markdown",
   "id": "87f7101b",
   "metadata": {
    "slideshow": {
     "slide_type": "slide"
    }
   },
   "source": [
    "# Challenge 2\n",
    "\n",
    " - Show that $n(r) = N |\\phi(r)|^2$\n",
    "\n",
    " - For OF-DFT, the \"Boson\" KS equation is \n",
    "$$-\\frac{1}{2}\\nabla^2 \\phi(r) + \\color{blue}{v_B(r)}\\phi(r) = \\mu\\phi(r) \\to n(r)=N|\\phi(r)|^2.$$ \n",
    "Show that $\\color{blue}{v_B(r) = v_{s}(r) + v_P(r)}$ by imposing stationarity of $\\mathcal{L}_{OF}$ wrt variation of $\\phi(r)$.\n"
   ]
  },
  {
   "cell_type": "markdown",
   "id": "00340694",
   "metadata": {
    "slideshow": {
     "slide_type": "fragment"
    }
   },
   "source": [
    "<center>\n",
    "    <div class=\"alert alert-warning\">Hint: use $\\frac{\\delta \\mathcal{L}_{OF}}{\\delta \\phi(r)}=0$</div>\n",
    "</center>"
   ]
  },
  {
   "cell_type": "markdown",
   "id": "8ee6eb8b",
   "metadata": {
    "slideshow": {
     "slide_type": "fragment"
    }
   },
   "source": [
    "<center>\n",
    "    <div class=\"alert alert-warning\">Hint 2: use chain rule \n",
    "        <br>\n",
    "        <br>\n",
    "        $$\\frac{\\delta F[n]}{\\delta \\phi(r)}=\\int \\frac{\\delta F[n]}{\\delta n(r')} \\frac{\\delta n(r')}{\\delta \\phi(r)} dr' = \\frac{\\delta F[n]}{\\delta n(r)} N \\phi(r) $$</div>\n",
    "</center>"
   ]
  },
  {
   "cell_type": "markdown",
   "id": "a25b72fe",
   "metadata": {
    "slideshow": {
     "slide_type": "slide"
    }
   },
   "source": [
    "# The meaning of occupied and virtual KS orbitals"
   ]
  },
  {
   "cell_type": "markdown",
   "id": "da855fc9",
   "metadata": {
    "slideshow": {
     "slide_type": "fragment"
    }
   },
   "source": [
    "### Consider the KS equations for KS and OF-DFT\n",
    "\n",
    "$$-\\frac{1}{2}\\nabla^2 \\psi_i(r) + \\color{red}{v_s(r)}\\psi_i(r) = \\varepsilon_i\\psi_i(r)$$\n",
    "\n",
    "$$-\\frac{1}{2}\\nabla^2 \\phi(r) + \\color{blue}{v_B(r)}\\phi(r) = \\mu\\phi(r)$$\n",
    "\n",
    "### Do they admit more than one solution?"
   ]
  },
  {
   "cell_type": "markdown",
   "id": "30af3a02",
   "metadata": {
    "slideshow": {
     "slide_type": "fragment"
    }
   },
   "source": [
    "<center><h2><b> YES! </b></h2></center>\n",
    "\n",
    "$$-\\frac{1}{2}\\nabla^2 \\psi_i(r) + \\color{red}{v_s(r)}\\psi_i(r) = \\varepsilon_i\\psi_i(r)$$\n",
    "\n",
    "$$-\\frac{1}{2}\\nabla^2 \\phi_k(r) + \\color{blue}{v_B(r)}\\phi_k(r) = \\mu_k\\phi_k(r)$$\n"
   ]
  },
  {
   "cell_type": "markdown",
   "id": "da8e68f3",
   "metadata": {
    "slideshow": {
     "slide_type": "slide"
    }
   },
   "source": [
    "# How many KS orbitals? How many KS orbital excitations?"
   ]
  },
  {
   "cell_type": "markdown",
   "id": "3ce91429",
   "metadata": {
    "slideshow": {
     "slide_type": "fragment"
    }
   },
   "source": [
    "### Commonly, the following is used\n",
    "<center><img src=\"./figures/science/KS_orb.png\" width=500 /></center>"
   ]
  },
  {
   "cell_type": "markdown",
   "id": "fb389d17",
   "metadata": {
    "slideshow": {
     "slide_type": "slide"
    }
   },
   "source": [
    "# How many OF orbitals? How many OF orbital excitations?"
   ]
  },
  {
   "cell_type": "markdown",
   "id": "56b820db",
   "metadata": {
    "slideshow": {
     "slide_type": "fragment"
    }
   },
   "source": [
    "### Commonly, the following is used\n",
    "<center><img src=\"./figures/science/OF_orb.png\" width=500 /></center>"
   ]
  },
  {
   "cell_type": "markdown",
   "id": "d675209e",
   "metadata": {
    "slideshow": {
     "slide_type": "slide"
    }
   },
   "source": [
    "# What is the physical meaning of KS and OF orbitals?"
   ]
  },
  {
   "cell_type": "markdown",
   "id": "9b3938ef",
   "metadata": {
    "slideshow": {
     "slide_type": "fragment"
    }
   },
   "source": [
    "- Generally KS or HF orbitals have no rigorous physical meaning\n",
    "- The HOMO is different: HF has <a href=\"https://www.sciencedirect.com/science/article/abs/pii/S0031891434900112?via%3Dihub\">Koopmans' theorem</a> and KS has <a href=\"https://journals.aps.org/prb/abstract/10.1103/PhysRevB.18.7165\">Janak's theorem</a> relating it to the IP.\n",
    "- What about the virtuals? The LUMO? ... no rigorous physical meaning."
   ]
  },
  {
   "cell_type": "markdown",
   "id": "b2b9d552",
   "metadata": {
    "slideshow": {
     "slide_type": "slide"
    }
   },
   "source": [
    "# Can the KS orbitals tell us something useful?"
   ]
  },
  {
   "cell_type": "markdown",
   "id": "4e57c379",
   "metadata": {
    "slideshow": {
     "slide_type": "fragment"
    }
   },
   "source": [
    "<center>\n",
    "    <div class=\"alert alert-success\">Yes! In a few ways.</div>\n",
    "</center>"
   ]
  },
  {
   "cell_type": "markdown",
   "id": "aaebf637",
   "metadata": {
    "slideshow": {
     "slide_type": "fragment"
    }
   },
   "source": [
    "### If you are interested in ionization energies:\n",
    "- GW $$\\varepsilon_i \\to \\varepsilon_i + \\langle \\phi_i | \\hat \\Sigma(\\varepsilon_i) - v_{xc} | \\phi_i \\rangle$$"
   ]
  },
  {
   "cell_type": "markdown",
   "id": "fd160e8a",
   "metadata": {
    "slideshow": {
     "slide_type": "fragment"
    }
   },
   "source": [
    "### If you are interested in excitation energies:\n",
    "\n",
    "- TDDFT $$\\varepsilon_a-\\varepsilon_i \\to (\\varepsilon_a-\\varepsilon_i) + \\left\\langle \\phi_i\\phi_a \\bigg| \\frac{1}{|r-r'|}+f_{xc}(r,r',\\varepsilon_a-\\varepsilon_i) \\bigg| \\phi_i\\phi_a \\right\\rangle+\\cdots$$\n",
    "\n",
    "where $i,j,k,l,\\ldots \\in \\text{occupied}$ and $a,b,c,d,\\ldots \\in \\text{virtuals}$. "
   ]
  },
  {
   "cell_type": "markdown",
   "id": "4dd013a0",
   "metadata": {
    "slideshow": {
     "slide_type": "fragment"
    }
   },
   "source": [
    "<center>\n",
    "    <div class=\"alert alert-success\">Check out this <a href=\"https://pubs.acs.org/doi/10.1021/ct500727c\">very interesting paper</a> by Baerends about the quality of KS virtuals vs HF virtuals for describing excitation energies</div>\n",
    "</center>"
   ]
  },
  {
   "cell_type": "markdown",
   "id": "0ea88a4e",
   "metadata": {
    "slideshow": {
     "slide_type": "slide"
    }
   },
   "source": [
    "# What to do?"
   ]
  },
  {
   "cell_type": "markdown",
   "id": "37eda561",
   "metadata": {
    "slideshow": {
     "slide_type": "fragment"
    }
   },
   "source": [
    "### Ionizations / affinities / fundamental gaps\n",
    "- Use <b>GW quasiparticle energies</b> are rigorous ionizations / affinities\n",
    "- Use <b>hybrid functionals</b> in DFT (HSE, PBE0, ...). They approximate GW results and usually predict ionizations/affinities much better than GGA functionals like PBE"
   ]
  },
  {
   "cell_type": "markdown",
   "id": "3ebbab0b",
   "metadata": {
    "slideshow": {
     "slide_type": "fragment"
    }
   },
   "source": [
    "### Electronic excitations? Band structures?"
   ]
  },
  {
   "cell_type": "markdown",
   "id": "863a1709",
   "metadata": {
    "slideshow": {
     "slide_type": "fragment"
    }
   },
   "source": [
    "<hr style=\"border-top: 3px solid black;\" />"
   ]
  },
  {
   "cell_type": "markdown",
   "id": "022c0dac",
   "metadata": {
    "slideshow": {
     "slide_type": "fragment"
    }
   },
   "source": [
    "# Challenge 3\n",
    "\n",
    "- In the limit of having the exact exchange-correlation functional, should you expect KS-DFT orbital energies to deliver exact band structures?\n",
    "\n",
    "Discuss among the group and be ready to share your thoughts with the class.\n"
   ]
  },
  {
   "cell_type": "markdown",
   "id": "e47d6c12",
   "metadata": {
    "slideshow": {
     "slide_type": "slide"
    }
   },
   "source": [
    "# Type of excitations available from Real, KS and OF systems"
   ]
  },
  {
   "cell_type": "markdown",
   "id": "a7d836fc",
   "metadata": {
    "slideshow": {
     "slide_type": "fragment"
    }
   },
   "source": [
    "<center><img src=\"./figures/science/OF_KS_excitations.png\" width=1200 /></center>"
   ]
  },
  {
   "cell_type": "markdown",
   "id": "43aeda04",
   "metadata": {
    "slideshow": {
     "slide_type": "slide"
    }
   },
   "source": [
    "# Challenge 4\n",
    "\n",
    "- Discuss among the group why OF-TDDFT should work well for plasmonic excitations of nanoparticles (finite systems).\n",
    "\n",
    "You could consider the relevant Dyson equations (which you saw with both Iurii and Matteo earlier).\n",
    "\n",
    "For KS-TDDFT ($\\chi_s$ here is related to the $P$ in Matteo's talk):\n",
    "\n",
    "$$ \n",
    "\\chi = \\frac{\\chi_s}{1-\\chi_s (v+f_{xc})}\n",
    "$$\n",
    "\n",
    "For OF-TDDFT (feel free to derive this Dyson equation if it is not obvious to you):\n",
    "\n",
    "$$ \n",
    "\\chi = \\frac{\\chi_B}{1-\\chi_B (v+f_{xc}+f_P)}\n",
    "$$ \n",
    "\n"
   ]
  },
  {
   "cell_type": "markdown",
   "id": "cae847aa",
   "metadata": {
    "slideshow": {
     "slide_type": "slide"
    }
   },
   "source": [
    "# Excitation energies\n",
    "- Use <b>TDDFT based on the KS-DFT reference</b>, it is rigorous and works well for <b><span style=\"color: red;\">valence</span></b> excitations and generally all types of excitations\n",
    "- Use <b>TDDFT based on the OF-DFT reference</b>, it is rigorous and works well for <b><span style=\"color: red;\">plasmonic</span></b> excitations\n",
    "- Orbital energy differences offer a qualitative picture of excitations and may recover trends\n",
    "- GW/BSE is rigorous and accurate but often impractical"
   ]
  },
  {
   "cell_type": "markdown",
   "id": "0e07b288",
   "metadata": {
    "slideshow": {
     "slide_type": "slide"
    }
   },
   "source": [
    "# PART II: TDDFT based on KS-DFT and OF-DFT"
   ]
  },
  {
   "cell_type": "markdown",
   "id": "ac0be88b",
   "metadata": {
    "slideshow": {
     "slide_type": "slide"
    }
   },
   "source": [
    "# KS-TDDFT and OF-TDDFT equations :\n",
    "\n",
    "<br>\n",
    "<br>\n",
    "\n",
    "<center><h3>KS-TDDFT</h3></center>\n",
    "<br>\n",
    "$$-\\frac{1}{2}\\nabla^2 \\phi_i(r,t) + \\color{red}{v_s(r,t)}\\phi_i(r,t) = i\\frac{\\partial \\phi_i(r,t)}{\\partial t} \\to n(r,t)=\\sum_i n_i |\\phi_i(r,t)|^2\\\\ \\text{ where } N=\\sum_i n_i, \\text{ and } \\{n_i\\} \\text{ are time-independent.}$$\n",
    "\n",
    "<br>\n",
    "\n",
    "<center><h3>OF-TDDFT</h3></center>\n",
    "<br>\n",
    "$$-\\frac{1}{2}\\nabla^2 \\phi(r,t) + \\color{blue}{v_B(r,t)}\\phi(r,t) = i\\frac{\\partial\\phi(r,t)}{\\partial t} \\to n(r,t)=N|\\phi(r,t)|^2\\\\ \\text{ where one could write } \\phi(r,t) = \\frac{1}{\\sqrt{N}}\\sqrt{n(r,t)}e^{iS(r,t)}$$"
   ]
  },
  {
   "cell_type": "markdown",
   "id": "00a9a71f",
   "metadata": {
    "slideshow": {
     "slide_type": "fragment"
    }
   },
   "source": [
    "<center>\n",
    "    <div class=\"alert alert-success\">The KS-TDDFT equations are the result of the <a href=\"https://journals.aps.org/prl/abstract/10.1103/PhysRevLett.52.997\">Runge-Gross theorem</a>, the follow-up <a href=\"https://journals.aps.org/prl/abstract/10.1103/PhysRevLett.82.3863\">van Leuwen theorem</a> and considerations by <a href=\"https://journals.aps.org/pra/abstract/10.1103/PhysRevA.77.062511\">Vignale</a>.</div>\n",
    "</center>"
   ]
  },
  {
   "cell_type": "markdown",
   "id": "60fdce90",
   "metadata": {
    "slideshow": {
     "slide_type": "fragment"
    }
   },
   "source": [
    "<center>\n",
    "    <div class=\"alert alert-success\">The OF-TDDFT equations rest on <a href=\"https://journals.aps.org/prb/abstract/10.1103/PhysRevB.103.245102\">similar footing</a>.</div>\n",
    "</center>"
   ]
  },
  {
   "cell_type": "markdown",
   "id": "2d8b9fad",
   "metadata": {
    "slideshow": {
     "slide_type": "slide"
    }
   },
   "source": [
    "# Integrating the TDDFT equations in real time (rt)"
   ]
  },
  {
   "cell_type": "markdown",
   "id": "0d74efcd",
   "metadata": {
    "slideshow": {
     "slide_type": "fragment"
    }
   },
   "source": [
    "The main idea: use a <b>propagator</b>!\n",
    "$$\n",
    "\\phi_i(t+dt) = \\hat U(t,t+dt)\\, \\phi_i(t)\n",
    "$$"
   ]
  },
  {
   "cell_type": "markdown",
   "id": "c4d17cd9",
   "metadata": {
    "slideshow": {
     "slide_type": "fragment"
    }
   },
   "source": [
    "It is formally defined as follows for time-independent Hamiltonians:\n",
    "$$\n",
    "\\hat U(t,t+dt) = e^{-i\\hat H dt}\n",
    "$$\n",
    "\n",
    "Where for KS-TDDFT one would like to write $$\\color{red}{\\hat H = \\hat h_{KS} = -\\frac{1}{2}\\nabla^2 + v_s(r,t)}$$"
   ]
  },
  {
   "cell_type": "markdown",
   "id": "e79be476",
   "metadata": {
    "slideshow": {
     "slide_type": "fragment"
    }
   },
   "source": [
    "For OF-TDDFT $$\\color{blue}{\\hat H = \\hat h_{OF} = -\\frac{1}{2}\\nabla^2 + v_B(r,t)}$$"
   ]
  },
  {
   "cell_type": "markdown",
   "id": "3d0890fb",
   "metadata": {
    "slideshow": {
     "slide_type": "slide"
    }
   },
   "source": [
    "# Challenge 5\n",
    " - Derive $\\hat U(t,t+dt) = e^{-i\\hat H dt}$ from the time-dependent Schrödinger equation for <b>time-independent </b> Hamiltonians\n"
   ]
  },
  {
   "cell_type": "markdown",
   "id": "f3c7c86e",
   "metadata": {
    "slideshow": {
     "slide_type": "fragment"
    }
   },
   "source": [
    "<center>\n",
    "    <div class=\"alert alert-warning\">Hint: use a Taylor expansion <br><br> $$\\phi(t+dt)\\simeq \\phi(t)+\\frac{d \\phi(t)}{dt}dt + \\frac{1}{2} \\frac{d^2 \\phi(t)}{dt^2}dt^2 + \\cdots$$</div>\n",
    "</center>"
   ]
  },
  {
   "cell_type": "markdown",
   "id": "81773a8d",
   "metadata": {
    "slideshow": {
     "slide_type": "slide"
    }
   },
   "source": [
    "# There are complications"
   ]
  },
  {
   "cell_type": "markdown",
   "id": "303ce44b",
   "metadata": {
    "slideshow": {
     "slide_type": "fragment"
    }
   },
   "source": [
    "- the exponential function is of difficult implementation because it implies diagonalization of the Hamiltonian (almost always not a viable option), or a Taylor expansion $$ e^{M}=1+M+\\frac{M^2}{2}+\\cdots $$"
   ]
  },
  {
   "cell_type": "markdown",
   "id": "2b904c40",
   "metadata": {
    "slideshow": {
     "slide_type": "fragment"
    }
   },
   "source": [
    "- The Hamiltonian (KS and OF) contains time-dependent potentials, for example the externally applied potential, $v_{appl}(r,t)$."
   ]
  },
  {
   "cell_type": "markdown",
   "id": "ea83623e",
   "metadata": {
    "slideshow": {
     "slide_type": "slide"
    }
   },
   "source": [
    "# Time-dependence of $\\hat H$"
   ]
  },
  {
   "cell_type": "markdown",
   "id": "0e29d675",
   "metadata": {
    "slideshow": {
     "slide_type": "fragment"
    }
   },
   "source": [
    "The adiabatic approximation for KS-TDDFT:\n",
    "$$\n",
    "v_{xc}(r,t) = v_{xc}[n(r,t)](r)\n",
    "$$\n",
    "uses the ground state XC functional and potential and evaluates them with the time-dependent density, $n(r,t)$."
   ]
  },
  {
   "cell_type": "markdown",
   "id": "7124b036",
   "metadata": {
    "slideshow": {
     "slide_type": "fragment"
    }
   },
   "source": [
    "- The time-dependent xc potential is <b>not</b> defined in this way"
   ]
  },
  {
   "cell_type": "markdown",
   "id": "2225d85d",
   "metadata": {
    "slideshow": {
     "slide_type": "fragment"
    }
   },
   "source": [
    "- The adiabatic approximation is perhaps the best we can do. <b>But</b> together with the self-interaction error,  it leads to some shortcomings:\n",
    "    - <a href=\"https://iopscience.iop.org/article/10.1088/1361-648X/aa836e/meta\">charge-transfer excitations are generally too low in energy</a>\n",
    "    - predicted optical gaps are usually too low (e.g., <a href=\"https://journals.aps.org/prb/abstract/10.1103/PhysRevB.73.094204\">PBE water: 6.5 eV vs 8.5 eV</a>, see also <a href=\"https://pubs.acs.org/doi/10.1021/acs.jpclett.7b02212\">this paper</a>.)\n",
    "    - <a href=\"https://doi.org/10.1016/j.chemphys.2011.03.020\">neglect of double excitations (e.g., 1,3-butene)</a>"
   ]
  },
  {
   "cell_type": "markdown",
   "id": "2b355d2b",
   "metadata": {
    "slideshow": {
     "slide_type": "fragment"
    }
   },
   "source": [
    "- There are fixes <b>but you must evaluate them carfully before use</b>.\n",
    "    - use of hybrids\n",
    "    - use of GGA+U\n",
    "    - use of long-range corrected xc potentials <a href=\"https://pubs.aip.org/aip/jcp/article-abstract/112/3/1344/184896/Molecular-calculations-of-excitation-energies-and\">(LB94, SAOP)</a>\n",
    "    - other functionals (Koopman's, etc)"
   ]
  },
  {
   "cell_type": "markdown",
   "id": "b8a62b62",
   "metadata": {
    "slideshow": {
     "slide_type": "slide"
    }
   },
   "source": [
    "# Real-time TDDFT"
   ]
  },
  {
   "cell_type": "markdown",
   "id": "27fdcf63",
   "metadata": {
    "slideshow": {
     "slide_type": "fragment"
    }
   },
   "source": [
    "<center>\n",
    "    <div class=\"alert alert-success\">Real-time TDDFT refers to the integration of the KS/OF-TDDFT equations discretizing time and propagating the occupied orbitals with specialized propagators.</div>\n",
    "</center>"
   ]
  },
  {
   "cell_type": "markdown",
   "id": "c1f14402",
   "metadata": {
    "slideshow": {
     "slide_type": "fragment"
    }
   },
   "source": [
    "In rt-TDDFT, propagators are iteratively applied, e.g.:\n",
    "\n",
    "``` python\n",
    "phi[0]={ground state occupied orbital(s)}\n",
    "for i in range(1,N_max):\n",
    "    phi[i] = U(t,t+dt) phi[i-1]\n",
    "```"
   ]
  },
  {
   "cell_type": "markdown",
   "id": "410e0921",
   "metadata": {
    "slideshow": {
     "slide_type": "fragment"
    }
   },
   "source": [
    "$\\hat U(t,t+dt)$ needs to be approximated"
   ]
  },
  {
   "cell_type": "markdown",
   "id": "29fc5d4f",
   "metadata": {
    "slideshow": {
     "slide_type": "fragment"
    }
   },
   "source": [
    "Simplest is Taylor expansion of $\\hat U=e^{-i\\hat H(t) dt}$: $U(t,t+dt)\\simeq 1 - i \\hat H dt$"
   ]
  },
  {
   "cell_type": "markdown",
   "id": "f008669b",
   "metadata": {
    "slideshow": {
     "slide_type": "slide"
    }
   },
   "source": [
    "## Better idea ... "
   ]
  },
  {
   "cell_type": "markdown",
   "id": "ec77c5a2",
   "metadata": {
    "slideshow": {
     "slide_type": "fragment"
    }
   },
   "source": [
    "<center><img src=\"./figures/science/cn_time_line.png\" width=1000 /></center>"
   ]
  },
  {
   "cell_type": "markdown",
   "id": "5edcaf0e",
   "metadata": {
    "slideshow": {
     "slide_type": "slide"
    }
   },
   "source": [
    "# Crank-Nicolson (CN) propagator"
   ]
  },
  {
   "cell_type": "markdown",
   "id": "e535ba0b",
   "metadata": {
    "slideshow": {
     "slide_type": "fragment"
    }
   },
   "source": [
    "The most common propagator to use is the Crank-Nicolson (CN) propagator:\n",
    "$$\n",
    "\\hat U(t,t+dt) \\simeq \\frac{1-i\\hat H(t+\\frac{dt}{2})\\frac{dt}{2}}{1+i\\hat H(t+\\frac{dt}{2})\\frac{dt}{2}}\n",
    "$$\n",
    "which propagates with an error of the order of $dt^3$ and is stable regardless of the initial conditions."
   ]
  },
  {
   "cell_type": "markdown",
   "id": "f3ea19f1",
   "metadata": {
    "slideshow": {
     "slide_type": "fragment"
    }
   },
   "source": [
    "- CN conserves the norm, $\\langle \\phi_i(t) | \\phi_i(t)\\rangle = \\langle \\phi_i(t+dt) | \\phi_i(t+dt)\\rangle = 1$."
   ]
  },
  {
   "cell_type": "markdown",
   "id": "97d23897",
   "metadata": {
    "slideshow": {
     "slide_type": "fragment"
    }
   },
   "source": [
    "- CN may require <b>predictor-corrector</b> steps to better evaluate $\\hat H(t+\\frac{1}{2}dt)$ and deliver a physical electron dynamics."
   ]
  },
  {
   "cell_type": "markdown",
   "id": "c8e95584",
   "metadata": {
    "slideshow": {
     "slide_type": "fragment"
    }
   },
   "source": [
    "- There are many other propagators (ETRS, ...). <a href=\"https://pubs.aip.org/aip/jcp/article-abstract/121/8/3425/464718/Propagators-for-the-time-dependent-Kohn-Sham?redirectedFrom=fulltext\">Check out this nice paper</a> and <a href=\"https://www.octopus-code.org/documentation/main/manual/calculations/time-dependent/\">this nice intro</a> in the OCTOPUS manual."
   ]
  },
  {
   "cell_type": "markdown",
   "id": "a353cdcc",
   "metadata": {
    "slideshow": {
     "slide_type": "slide"
    }
   },
   "source": [
    "# Challenge 6\n",
    "<ul>\n",
    "<li>Derive the CN propagator expressing $\\phi(t+dt/2)$ from $\\phi(t)$ propagating forward in time and $\\phi(t+dt)$ propagating backward in time using Taylor expansions.</li>\n",
    "<li><span style=\"color: red;\">Optional: </span> try to prove the the CN propagator conserves the norm (*hint: check the norm directly and (crucially) note that the adjoint of the propagator is it's inverse*)</li>\n",
    "</ul>"
   ]
  },
  {
   "cell_type": "markdown",
   "id": "f84cf993",
   "metadata": {
    "slideshow": {
     "slide_type": "slide"
    }
   },
   "source": [
    "# What is real-time TDDFT useful for?"
   ]
  },
  {
   "cell_type": "markdown",
   "id": "b4d865ac",
   "metadata": {
    "slideshow": {
     "slide_type": "fragment"
    }
   },
   "source": [
    "- Optical spectra (KS):\n",
    "    - <a href=\"https://journals.aps.org/prb/abstract/10.1103/PhysRevB.73.094204\">Liquid water</a> and <a href=\"https://pubs.acs.org/doi/10.1021/acs.jpclett.7b02212\">another liquid water</a>\n",
    "    - <a href=\"https://pubs.acs.org/doi/10.1021/acsnanoscienceau.2c00061\">Metallic systems (plasmons)</a>    "
   ]
  },
  {
   "cell_type": "markdown",
   "id": "d04108e1",
   "metadata": {
    "slideshow": {
     "slide_type": "fragment"
    }
   },
   "source": [
    "- Optical spectra (OF):\n",
    "    - <a href=\"https://journals.aps.org/prb/pdf/10.1103/PhysRevB.104.235110\">Nanoparticles</a> and <a href=\"https://pubs.acs.org/doi/full/10.1021/acs.nanolett.2c01399\">other plasmonic systems</a>"
   ]
  },
  {
   "cell_type": "markdown",
   "id": "69e93132",
   "metadata": {
    "slideshow": {
     "slide_type": "fragment"
    }
   },
   "source": [
    "- Electron-nuclear dynamics in non-equilibrium systems (KS):\n",
    "    - <a href=\"https://www.nature.com/articles/s41524-023-01157-7\">Materials stopping power (alpha particles, protons, etc)</a>\n",
    "    - <a href=\"https://www.pnas.org/doi/full/10.1073/pnas.1518224112\">Polaritonic systems</a>\n",
    "    - <a href=\"https://pubs.acs.org/doi/10.1021/acs.jpca.3c03709\">Non-equilibrium electron nuclear dynamics (Ehrenfest) of charge-transfer dynamics</a>"
   ]
  },
  {
   "cell_type": "markdown",
   "id": "075c8758",
   "metadata": {
    "slideshow": {
     "slide_type": "fragment"
    }
   },
   "source": [
    "- Electron-nuclear dynamics in non-equilibrium systems (OF):\n",
    "    - <a href=\"https://journals.aps.org/prl/abstract/10.1103/PhysRevLett.121.145001\">Warm dense matter</a>"
   ]
  },
  {
   "cell_type": "markdown",
   "id": "9561d229",
   "metadata": {
    "slideshow": {
     "slide_type": "slide"
    }
   },
   "source": [
    "# Thank you!"
   ]
  },
  {
   "cell_type": "markdown",
   "id": "ceb95b4b",
   "metadata": {
    "slideshow": {
     "slide_type": "slide"
    }
   },
   "source": [
    "# Ready for some hands-on work?\n",
    "\n",
    "- real-time orbital-free TDDFT for plasmons in metal clusters and nanoparticles"
   ]
  }
 ],
 "metadata": {
  "celltoolbar": "Slideshow",
  "hide_input": false,
  "kernelspec": {
   "display_name": "Python 3 (ipykernel)",
   "language": "python",
   "name": "python3"
  },
  "language_info": {
   "codemirror_mode": {
    "name": "ipython",
    "version": 3
   },
   "file_extension": ".py",
   "mimetype": "text/x-python",
   "name": "python",
   "nbconvert_exporter": "python",
   "pygments_lexer": "ipython3",
   "version": "3.10.15"
  },
  "rise": {
   "enable_chalkboard": true,
   "theme": "sky"
  }
 },
 "nbformat": 4,
 "nbformat_minor": 5
}
