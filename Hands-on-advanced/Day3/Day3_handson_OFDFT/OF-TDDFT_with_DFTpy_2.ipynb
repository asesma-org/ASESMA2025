{
 "cells": [
  {
   "cell_type": "markdown",
   "id": "3fece55d",
   "metadata": {
    "jp-MarkdownHeadingCollapsed": true,
    "slideshow": {
     "slide_type": "slide"
    }
   },
   "source": [
    "<center>\n",
    "    <h3> Real-Time Time Dependent Orbital Free Density Functional Theory with DFTpy</h3>\n",
    "    <h3>Part 2: Accurate ground state density</h3>\n",
    "</center>\n",
    "<table>\n",
    "  <tr>\n",
    "      <td><p><h4>Rutgers University-Newark</h4></p><p>Team Rutgers</p></td>\n",
    "           <td><img src=\"../figures/logos/run.png\" width=300 height=300 /></td>\n",
    "  </tr>\n",
    "</table>\n",
    "\n",
    "<center><h3>ASESMA 2025</h3></center>"
   ]
  },
  {
   "cell_type": "markdown",
   "id": "34dd5615",
   "metadata": {
    "slideshow": {
     "slide_type": "slide"
    }
   },
   "source": [
    "## This notebook will:\n",
    "#### 1) Obtain a good initial density with a good, computationally expensive, nonlocal functional (LMGP)\n",
    "#### 2) Compute the Optical Spectra (plasmons) of a Mg<sub>8</sub> cluster from a good initial density  \n",
    "#### 3) Challenge: Obtain the spectrum of your own cluster"
   ]
  },
  {
   "cell_type": "code",
   "execution_count": 5,
   "id": "2a4414f0",
   "metadata": {
    "slideshow": {
     "slide_type": "slide"
    }
   },
   "outputs": [],
   "source": [
    "import numpy as np\n",
    "import matplotlib.pyplot as plt"
   ]
  },
  {
   "cell_type": "code",
   "execution_count": 2,
   "id": "cc9b0b75",
   "metadata": {},
   "outputs": [],
   "source": [
    "from dftpy.grid import DirectGrid\n",
    "from dftpy.field import DirectField\n",
    "from dftpy.functional import Functional, TotalFunctional\n",
    "from dftpy.optimization import Optimization\n",
    "from dftpy.td.propagator import Propagator\n",
    "from dftpy.td.hamiltonian import Hamiltonian\n",
    "from dftpy.utils.utils import calc_rho, calc_j\n",
    "from dftpy.td.utils import initial_kick\n",
    "from dftpy.ions import Ions\n",
    "from dftpy.formats import io\n",
    "from dftpy.constants import Units\n",
    "from dftpy.td.utils import calc_spectra_mu"
   ]
  },
  {
   "cell_type": "code",
   "execution_count": null,
   "id": "3d0a7206-95c8-4133-a0b1-98cabd70c3ef",
   "metadata": {},
   "outputs": [],
   "source": [
    "!wget https://gitlab.com/pavanello-research-group/dftpy/-/raw/master/examples/DATA/Mg8.vasp\n",
    "!wget https://gitlab.com/pavanello-research-group/dftpy/-/raw/master/examples/DATA/Mg_OEPP_PZ.UPF"
   ]
  },
  {
   "cell_type": "markdown",
   "id": "fe019cf0",
   "metadata": {
    "slideshow": {
     "slide_type": "slide"
    }
   },
   "source": [
    "### Read the vasp file with DFTpy"
   ]
  },
  {
   "cell_type": "code",
   "execution_count": 10,
   "id": "1cc0e6f4",
   "metadata": {
    "slideshow": {
     "slide_type": "-"
    }
   },
   "outputs": [],
   "source": [
    "ions = io.read('Mg8.vasp', format='vasp', names=['Mg'])"
   ]
  },
  {
   "cell_type": "code",
   "execution_count": 11,
   "id": "251f239f-8ad9-4406-8c1f-094c1a99870e",
   "metadata": {},
   "outputs": [
    {
     "data": {
      "text/plain": [
       "<Axes: >"
      ]
     },
     "execution_count": 11,
     "metadata": {},
     "output_type": "execute_result"
    },
    {
     "data": {
      "image/png": "[encoded data removed]",
      "text/plain": [
       "<Figure size 500x500 with 1 Axes>"
      ]
     },
     "metadata": {},
     "output_type": "display_data"
    }
   ],
   "source": [
    "from ase.visualize.plot import plot_atoms\n",
    "fig, ax = plt.subplots(figsize=(5, 5))\n",
    "plot_atoms(ions, ax, radii=1.5, rotation=('0x,0y,0z'))"
   ]
  },
  {
   "cell_type": "markdown",
   "id": "1b37141d",
   "metadata": {},
   "source": [
    "### Create the PP list and the Grid\n",
    "DirectGrid is a class object that represents a grid (Cell plus discretization)"
   ]
  },
  {
   "cell_type": "code",
   "execution_count": 12,
   "id": "9bfd4f19",
   "metadata": {},
   "outputs": [],
   "source": [
    "PP_list = ['./Mg_OEPP_PZ.UPF']\n",
    "grid = DirectGrid(ions.cell, spacing = 1.1)"
   ]
  },
  {
   "cell_type": "code",
   "execution_count": 13,
   "id": "5522f442",
   "metadata": {},
   "outputs": [
    {
     "data": {
      "text/plain": [
       "array([36, 36, 32], dtype=int32)"
      ]
     },
     "execution_count": 13,
     "metadata": {},
     "output_type": "execute_result"
    }
   ],
   "source": [
    "grid.nr"
   ]
  },
  {
   "cell_type": "markdown",
   "id": "a70560ea",
   "metadata": {
    "slideshow": {
     "slide_type": "slide"
    }
   },
   "source": [
    "### Define XC, PSEUDO and HARTREE functionals"
   ]
  },
  {
   "cell_type": "code",
   "execution_count": 14,
   "id": "bd1b5f48",
   "metadata": {},
   "outputs": [
    {
     "name": "stdout",
     "output_type": "stream",
     "text": [
      "setting key: Mg -> ./Mg_OEPP_PZ.UPF\n"
     ]
    }
   ],
   "source": [
    "xc = Functional(type='XC',name='LDA')\n",
    "hartree = Functional(type='HARTREE')\n",
    "pseudo = Functional(type='PSEUDO', grid=grid, ions=ions, PP_list=PP_list)"
   ]
  },
  {
   "cell_type": "markdown",
   "id": "c5c08f82",
   "metadata": {
    "slideshow": {
     "slide_type": "slide"
    }
   },
   "source": [
    "### Initial guess of the electron density: UEG"
   ]
  },
  {
   "cell_type": "code",
   "execution_count": 28,
   "id": "b3f26af8-699f-4cad-ba63-9f7d04bb68b9",
   "metadata": {},
   "outputs": [],
   "source": [
    "rho_ini = DirectField(grid=grid)\n",
    "rho_ini[:] = ions.get_ncharges()/ions.cell.volume"
   ]
  },
  {
   "cell_type": "markdown",
   "id": "ee9555af",
   "metadata": {
    "slideshow": {
     "slide_type": "slide"
    }
   },
   "source": [
    "### Write the optimization options and build the class that handles the electron density optimization"
   ]
  },
  {
   "cell_type": "markdown",
   "id": "0a7debdc-b97a-44d2-9120-932250803afd",
   "metadata": {},
   "source": [
    "#### Run the optimization of the electronic density with TF0.2vW ($T_s[n]\\sim T_{TF}[n]+ 0.2 T_{vW}[n]$)\n",
    "\n",
    "- The Thomas Fermi functional is\n",
    "$$ T_{TF}[n] = C_{TF} \\int n^{5/3}(r)dr $$\n",
    "\n",
    "- The von Weizsacker functional is\n",
    "$$ T_{vW}[n] = -\\frac{1}{2} \\int \\sqrt{n(r)} \\nabla^2 \\sqrt{n(r)} dr $$"
   ]
  },
  {
   "cell_type": "code",
   "execution_count": 16,
   "id": "f0bc84f2",
   "metadata": {},
   "outputs": [],
   "source": [
    "optimization_options = {'econv' : 1e-9,'maxiter' : 100}\n",
    "ke = Functional(type='KEDF',name='TFvw', y=0.2)\n",
    "\n",
    "totalfunctional = TotalFunctional(KEDF=ke, XC=xc, HARTREE=hartree, PSEUDO=pseudo)\n",
    "\n",
    "opt = Optimization(EnergyEvaluator=totalfunctional, optimization_options = optimization_options,\n",
    "        optimization_method = 'TN')"
   ]
  },
  {
   "cell_type": "code",
   "execution_count": 17,
   "id": "f7c5470f",
   "metadata": {
    "scrolled": true
   },
   "outputs": [
    {
     "name": "stdout",
     "output_type": "stream",
     "text": [
      "Step    Energy(a.u.)            dE              dP              Nd      Nls     Time(s)         \n",
      "0       8.951916882520E+00      8.951917E+00    2.343046E+00    1       1       4.464197E-02    \n",
      "!WARN: Change to steepest decent\n",
      "1       -5.391241844465E+00     -1.434316E+01   1.315224E+00    1       3       7.289386E-02    \n",
      "2       -6.787012645229E+00     -1.395771E+00   1.519794E-01    2       2       9.905982E-02    \n",
      "3       -7.028248145499E+00     -2.412355E-01   1.639106E-02    5       3       1.454799E-01    \n",
      "4       -7.058369908191E+00     -3.012176E-02   1.701910E-03    5       2       1.841090E-01    \n",
      "5       -7.059908530812E+00     -1.538623E-03   1.781677E-04    3       2       2.121341E-01    \n",
      "6       -7.060408861365E+00     -5.003306E-04   1.085856E-05    6       3       2.594359E-01    \n",
      "7       -7.060419731847E+00     -1.087048E-05   1.330571E-06    4       3       2.955801E-01    \n",
      "8       -7.060420451061E+00     -7.192140E-07   6.551728E-07    3       3       3.286419E-01    \n",
      "9       -7.060420769206E+00     -3.181452E-07   4.178655E-07    5       5       3.816149E-01    \n",
      "10      -7.060420817572E+00     -4.836655E-08   3.963139E-07    5       4       4.300001E-01    \n",
      "11      -7.060420841948E+00     -2.437550E-08   3.668011E-07    2       5       4.695239E-01    \n",
      "12      -7.060420847282E+00     -5.334055E-09   3.651909E-07    4       5       5.171239E-01    \n",
      "13      -7.060420853201E+00     -5.919180E-09   3.618032E-07    4       5       5.638771E-01    \n",
      "14      -7.060420855020E+00     -1.818513E-09   3.599916E-07    2       5       6.043861E-01    \n",
      "15      -7.060420857424E+00     -2.403983E-09   3.572578E-07    2       5       6.414549E-01    \n",
      "16      -7.060420858751E+00     -1.327166E-09   3.558196E-07    2       6       6.830688E-01    \n",
      "17      -7.060420859918E+00     -1.167447E-09   3.552612E-07    4       6       7.332931E-01    \n",
      "18      -7.060420860699E+00     -7.812133E-10   3.543846E-07    2       6       7.780950E-01    \n",
      "19      -7.060420861118E+00     -4.190852E-10   3.538953E-07    2       7       8.273778E-01    \n",
      "20      -7.060420861294E+00     -1.754401E-10   3.537061E-07    2       7       8.763518E-01    \n",
      "#### Density Optimization Converged ####\n",
      "Chemical potential (a.u.): -0.10246645165466325\n",
      "Chemical potential (eV)  : -2.7882541705222055\n"
     ]
    }
   ],
   "source": [
    "rho = opt.optimize_rho(guess_rho=rho_ini)"
   ]
  },
  {
   "cell_type": "code",
   "execution_count": 20,
   "id": "8be1a8a7-6f0e-4301-982f-507c024e0bae",
   "metadata": {},
   "outputs": [],
   "source": [
    "kfmax=( np.max(rho) * 3 * np.pi )**(1.0/3.0)"
   ]
  },
  {
   "cell_type": "markdown",
   "id": "e02cb388-7b1c-4a7d-9702-203fa86b2c7d",
   "metadata": {},
   "source": [
    "# Now we optimize the electron density with a more accurate functional\n",
    "\n",
    "$$ T_{LMGP}[n] = T_{TF}[n]+T_{vW}[n]+T_{NL}[n]$$\n",
    "\n",
    "where\n",
    "\n",
    "$$ T_{NL}[n] = \\int dr dr' \\omega[n](|r-r'|) n^{5/6}(r)n^{5/6}(r')$$\n",
    "\n",
    "where $\\omega$ is a kernel function. See [this paper](https://pubs.aip.org/aip/jcp/article/148/18/184107/195885) and [this paper](https://journals.aps.org/prb/abstract/10.1103/PhysRevB.100.041105) for details, as well as [this review](https://pubs.acs.org/doi/abs/10.1021/acs.chemrev.2c00758)."
   ]
  },
  {
   "cell_type": "markdown",
   "id": "8332b3bd-8313-4073-a352-2cab52bfe262",
   "metadata": {},
   "source": [
    "### If you want to skip the optimization, just read the LMGP density with DFTpy"
   ]
  },
  {
   "cell_type": "code",
   "execution_count": 15,
   "id": "e6388b9f-82cc-43d7-956c-e54dd7593e57",
   "metadata": {},
   "outputs": [],
   "source": [
    "#rho0 = io.read_density('rho_lmgp.xsf', full=True)"
   ]
  },
  {
   "cell_type": "markdown",
   "id": "726bf682-feca-42c2-b8ab-2d946c107f0e",
   "metadata": {},
   "source": [
    "### Otherwise, execute the following cells"
   ]
  },
  {
   "cell_type": "code",
   "execution_count": 26,
   "id": "801b7c9a-416e-41bd-85ac-2ac60963604b",
   "metadata": {},
   "outputs": [],
   "source": [
    "optimization_options = {'econv' : 1e-7*ions.nat,'maxiter' : 100}"
   ]
  },
  {
   "cell_type": "code",
   "execution_count": 27,
   "id": "ee874fc7-13cc-4222-8efd-da7579a8bf10",
   "metadata": {
    "scrolled": true
   },
   "outputs": [
    {
     "name": "stdout",
     "output_type": "stream",
     "text": [
      "Step    Energy(a.u.)            dE              dP              Nd      Nls     Time(s)         \n",
      "0       -6.622092352544E+00     -6.622092E+00   8.463653E-01    1       1       2.001933E+00    \n",
      "1       -6.877450082713E+00     -2.553577E-01   2.246182E-01    1       3       4.484939E+00    \n",
      "2       -6.924159000080E+00     -4.670892E-02   6.092848E-02    1       3       7.028694E+00    \n",
      "3       -6.941769422496E+00     -1.761042E-02   3.281951E-02    1       2       8.715337E+00    \n",
      "4       -6.950262328828E+00     -8.492906E-03   1.913655E-02    1       2       1.040354E+01    \n",
      "5       -6.956879483427E+00     -6.617155E-03   1.461440E-02    1       2       1.207954E+01    \n",
      "6       -6.962408553880E+00     -5.529070E-03   1.510082E-02    1       3       1.460552E+01    \n",
      "7       -6.966496554710E+00     -4.088001E-03   1.081881E-02    1       3       1.713757E+01    \n",
      "8       -6.968925735231E+00     -2.429181E-03   4.690393E-03    1       2       1.881313E+01    \n",
      "9       -6.970173343502E+00     -1.247608E-03   3.052641E-03    1       2       2.050028E+01    \n",
      "10      -6.970922727348E+00     -7.493838E-04   1.871730E-03    1       2       2.218257E+01    \n",
      "11      -6.971436234460E+00     -5.135071E-04   1.608002E-03    1       2       2.387848E+01    \n",
      "12      -6.971841870819E+00     -4.056364E-04   9.672457E-04    1       2       2.555772E+01    \n",
      "13      -6.972140366947E+00     -2.984961E-04   7.288946E-04    1       2       2.723946E+01    \n",
      "14      -6.972365927022E+00     -2.255601E-04   4.696233E-04    1       2       2.892145E+01    \n",
      "15      -6.972495622605E+00     -1.296956E-04   3.226760E-04    1       2       3.061326E+01    \n",
      "16      -6.972581000339E+00     -8.537773E-05   3.086093E-04    1       2       3.230400E+01    \n",
      "17      -6.972634343313E+00     -5.334297E-05   1.787559E-04    1       2       3.398259E+01    \n",
      "18      -6.972663037969E+00     -2.869466E-05   1.301036E-04    1       2       3.566437E+01    \n",
      "19      -6.972682241198E+00     -1.920323E-05   8.120318E-05    1       2       3.733405E+01    \n",
      "20      -6.972695748172E+00     -1.350697E-05   5.005049E-05    1       2       3.901204E+01    \n",
      "21      -6.972704389572E+00     -8.641400E-06   3.829217E-05    1       2       4.069961E+01    \n",
      "22      -6.972710018470E+00     -5.628898E-06   1.616778E-05    1       3       4.323079E+01    \n",
      "23      -6.972715463175E+00     -5.444704E-06   1.234956E-05    1       3       4.578417E+01    \n",
      "24      -6.972719476444E+00     -4.013269E-06   8.817751E-06    1       3       4.830871E+01    \n",
      "25      -6.972721481949E+00     -2.005505E-06   9.535082E-06    1       2       5.000220E+01    \n",
      "26      -6.972723348635E+00     -1.866686E-06   4.594746E-06    1       2       5.167943E+01    \n",
      "27      -6.972725138821E+00     -1.790186E-06   2.482065E-06    1       3       5.422014E+01    \n",
      "28      -6.972725369929E+00     -2.311083E-07   1.980679E-06    1       2       5.591773E+01    \n",
      "29      -6.972725544659E+00     -1.747295E-07   8.876395E-07    1       4       5.928719E+01    \n",
      "#### Density Optimization Converged ####\n",
      "Chemical potential (a.u.): -0.12535403004596496\n",
      "Chemical potential (eV)  : -3.4110569012908822\n"
     ]
    }
   ],
   "source": [
    "ke = Functional(type='KEDF',name='LMGP', ratio=1.15, kfmax=kfmax+0.1)\n",
    "totalfunctional = TotalFunctional(KEDF=ke, XC=xc, HARTREE=hartree, PSEUDO=pseudo)\n",
    "opt = Optimization(EnergyEvaluator=totalfunctional, optimization_options = optimization_options,\n",
    "        optimization_method = 'CG')\n",
    "rho0 = opt.optimize_rho(guess_rho=rho)"
   ]
  },
  {
   "cell_type": "markdown",
   "id": "b4916d14",
   "metadata": {
    "slideshow": {
     "slide_type": "slide"
    }
   },
   "source": [
    "# Real-time OF-TDDFT \n",
    "## General workflow:\n",
    "### 1) Initialize the Time propagation from a good $n_{OF}(\\mathbf{r})$ or $n_{KS}(\\mathbf{r})$\n",
    "### 2) Then propagate with a cheap functional!"
   ]
  },
  {
   "cell_type": "markdown",
   "id": "f6edfb5a-ddf2-411e-90fa-dcd720459b16",
   "metadata": {},
   "source": [
    "## To time propagate, we need a cheap time-dependent potential whose $t=0$ density is the LMGP density\n",
    "## To do that,\n",
    "### (a) Retrieve Pauli potential\n",
    "$$\n",
    "v_p(\\mathbf{r},t) = v_{Ts}(\\mathbf{r},t) - v_{vW}(\\mathbf{r},t)\n",
    "$$\n",
    "\n",
    "### (b) Consider the modified Hamiltonian\n",
    "$$H(t) = H'(t_0) + [\\tilde{H}(t)-\\tilde{H}(t_0)]$$\n",
    "\n",
    "where $H$ is the **modified** $t$-dependent Hamiltonian, $H'$ is the **expensive method's (LMGP)** Hamiltonian, $\\tilde H$ is the **cheap method's (TFvW)** Hamiltonian.\n",
    "\n",
    "The modified Boson potential is (remember in OFDFT $\\hat H = -\\frac{1}{2} \\nabla^2 + v_B(r,t)$)\n",
    "\n",
    "$$v_B(\\mathbf{r},t) = v_B(\\mathbf{r},t_0) + [\\tilde{v}_B(\\mathbf{r},t)-\\tilde{v}_B(\\mathbf{r},t_0)]$$\n"
   ]
  },
  {
   "cell_type": "markdown",
   "id": "5d4de8fe-9254-4f77-8080-4412941ce3e4",
   "metadata": {
    "slideshow": {
     "slide_type": "slide"
    }
   },
   "source": [
    "#### Direct OEP step\n",
    "$$\n",
    "[-\\frac{1}{2}\\nabla ^2 + v_B(\\mathbf{r},t_0)]\\phi_B(\\mathbf{r},t_0) = \\mu \\phi_B(\\mathbf{r},t_0) \\rightarrow v_B(\\mathbf{r},t_0) = \\underbrace{\\frac{1}{2}\\frac{\\nabla ^2 \\phi_B(\\mathbf{r},t_0)}{\\phi_B(\\mathbf{r},t_0)}}_{-v_{vW}[n(\\mathbf{r},t_0)]} + \\mu \n",
    "$$\n"
   ]
  },
  {
   "cell_type": "markdown",
   "id": "dc86b462-3a24-4f8c-ad86-b9ac59256b15",
   "metadata": {
    "slideshow": {
     "slide_type": "slide"
    }
   },
   "source": [
    "Therefore\n",
    "$$\n",
    "\\color{red}{v_B(\\mathbf{r},t) = [-v_{vW}[n(\\mathbf{r},t_0) - \\tilde{v}_B(\\mathbf{r},t_0)] + \\tilde{v}_B(\\mathbf{r},t) \\to \\text{if starting from }n_{KS}(\\mathbf{r})}\n",
    "$$\n",
    "$$\n",
    "\\color{blue}{v_B(\\mathbf{r},t) =~~~~~ [v_{P}[n(\\mathbf{r},t_0) - \\tilde{v}_P(\\mathbf{r},t_0)] + \\tilde{v}_B(\\mathbf{r},t) \\to \\text{if starting from }n_{OF}(\\mathbf{r})}\n",
    "$$"
   ]
  },
  {
   "cell_type": "markdown",
   "id": "7d943c3a-daa1-411b-a8dc-16c8f3137f9d",
   "metadata": {},
   "source": [
    "### We start from an OF density, thus..."
   ]
  },
  {
   "cell_type": "code",
   "execution_count": 29,
   "id": "376c41d7",
   "metadata": {},
   "outputs": [],
   "source": [
    "ke = Functional(type='KEDF',name='LMGP', kfmax=kfmax+0.1, ratio=1.15)\n",
    "ke.options.update({'y':0}) # y is the fraction of vW in the functional. We set it to 0 to retrieve only the Pauli part.\n",
    "\n",
    "ke2 = Functional(type='KEDF',name='TFvW')\n",
    "ke2.options.update({'y':0}) # y is the fraction of vW in the functional. We set it to 0 to retrieve only the Pauli part.\n",
    "\n",
    "v_p = ke(rho0).potential\n",
    "v_p2 = ke2(rho0).potential\n",
    "\n",
    "v_ext = v_p - v_p2"
   ]
  },
  {
   "cell_type": "code",
   "execution_count": 30,
   "id": "997fbbf6-c876-4efa-859d-3f7b5802c099",
   "metadata": {},
   "outputs": [],
   "source": [
    "from dftpy.functional.external_potential import ExternalPotential"
   ]
  },
  {
   "cell_type": "code",
   "execution_count": 31,
   "id": "8aa45bfd-ae3c-4a13-93d3-4af18a7dd34d",
   "metadata": {},
   "outputs": [],
   "source": [
    "ext = ExternalPotential(v=v_ext)\n",
    "totalfunctional = TotalFunctional(KEDF=ke2, XC=xc, HARTREE=hartree, PSEUDO=pseudo)\n",
    "totalfunctional.UpdateFunctional(newFuncDict={'EXT': ext})"
   ]
  },
  {
   "cell_type": "markdown",
   "id": "99beedb6-8825-4c35-b69b-3eb2b07c4038",
   "metadata": {},
   "source": [
    "### Verify Ground state\n",
    "Build the hamiltonian and diagonalize it to verify that the propagation starts with the correct initial density "
   ]
  },
  {
   "cell_type": "code",
   "execution_count": 32,
   "id": "cc6b4247-f836-4d5b-916d-c4bcb477eae6",
   "metadata": {},
   "outputs": [],
   "source": [
    "potential = totalfunctional(rho0).potential\n",
    "H = Hamiltonian(v=potential)\n",
    "eigval, psi_list = H.diagonalize(numeig=1)"
   ]
  },
  {
   "cell_type": "code",
   "execution_count": 33,
   "id": "f5bf18e5-4491-4b2a-b2eb-5d8c6a1c9448",
   "metadata": {},
   "outputs": [],
   "source": [
    "psi_lmgp = np.sqrt(rho0)"
   ]
  },
  {
   "cell_type": "code",
   "execution_count": 34,
   "id": "6d4eb6b4-8e4d-49de-a5e9-4417ca5e2808",
   "metadata": {},
   "outputs": [],
   "source": [
    "N = (psi_lmgp*psi_lmgp).integral()"
   ]
  },
  {
   "cell_type": "code",
   "execution_count": 35,
   "id": "9d3bd7cf-81ab-4635-be38-c1c3864afa97",
   "metadata": {},
   "outputs": [],
   "source": [
    "rho_h = N * (psi_list[0]*psi_list[0])"
   ]
  },
  {
   "cell_type": "code",
   "execution_count": 42,
   "id": "d8fa3324-632d-44a9-98f5-072d4b3c314d",
   "metadata": {},
   "outputs": [
    {
     "data": {
      "image/png": "[encoded data removed]",
      "text/plain": [
       "<Figure size 1000x300 with 3 Axes>"
      ]
     },
     "metadata": {},
     "output_type": "display_data"
    }
   ],
   "source": [
    "fig, axs = plt.subplots(1, 3, figsize=(10, 3))\n",
    "r = np.linspace(0,ions.cell[2][2],len(rho_h[18,18,:].ravel()))\n",
    "axs[1].plot(r, rho_h[18,18,:].ravel())\n",
    "axs[2].plot(r, rho_h[18,18,:].ravel()-rho0[18,18,:].ravel())\n",
    "axs[2].set_ylabel('n(r)')\n",
    "axs[1].set_xlabel('r ($a_0$)')\n",
    "axs[2].set_xlabel('r ($a_0$)')\n",
    "axs[0].matshow(rho_h[:,:,15])\n",
    "axs[0].set_title(\"Contour of LMGP denisty\")\n",
    "axs[1].set_title(\"Line cut of LMGP density\")\n",
    "axs[2].set_title(\"Difference of $n(r)$ from min($\\mathcal{L}$) and eig($\\hat H$)\")\n",
    "plt.tight_layout()"
   ]
  },
  {
   "cell_type": "markdown",
   "id": "c2f2e190-b292-457a-b651-cace08886d44",
   "metadata": {},
   "source": [
    "## Time propagation after `kick`\n",
    "Give momentum $k$ along specific direction to each KS orbital"
   ]
  },
  {
   "cell_type": "markdown",
   "id": "d4b55f54-4a48-41de-bf94-fbe505274c41",
   "metadata": {},
   "source": [
    "$$\n",
    "\\phi(r,t_0) = \\phi(r) e^{ikr}\n",
    "$$"
   ]
  },
  {
   "cell_type": "code",
   "execution_count": 45,
   "id": "3703cb88-2f59-4997-9258-b8461aadf6a7",
   "metadata": {},
   "outputs": [],
   "source": [
    "from dftpy.constants import TIME_CONV, LEN_CONV, ENERGY_CONV\n",
    "as2au = TIME_CONV['s']['au']*1e-18\n",
    "bohr = LEN_CONV['Angstrom']['Bohr']\n",
    "ha = ENERGY_CONV['Hartree']['eV']\n",
    "\n",
    "k = 0.01*bohr\n",
    "interval = 1.0 * as2au\n",
    "direction = 0 # 0, 1, 2 means x, y, z-direction, respectively"
   ]
  },
  {
   "cell_type": "markdown",
   "id": "6084d710-0166-4df8-95cd-24a4146e1389",
   "metadata": {},
   "source": [
    "## Run with Crank Nicholson propagator"
   ]
  },
  {
   "cell_type": "code",
   "execution_count": 46,
   "id": "82a47b3d",
   "metadata": {
    "slideshow": {
     "slide_type": "slide"
    }
   },
   "outputs": [],
   "source": [
    "from dftpy.optimize import Dynamics\n",
    "\n",
    "\n",
    "class Runner(Dynamics):\n",
    "\n",
    "    def __init__(self, rho0, totalfunctional, k, direction, interval, max_steps):\n",
    "        super(Runner, self).__init__()\n",
    "        self.max_steps = max_steps\n",
    "        self.totalfunctional = totalfunctional\n",
    "        self.rho0 = rho0\n",
    "        self.rho = rho0\n",
    "        self.psi = initial_kick(k, direction, np.sqrt(self.rho0))\n",
    "        #self.j = calc_j(self.psi)\n",
    "        #potential = self.totalfunctional(self.rho0, current=self.j, calcType=['V']).potential\n",
    "        potential = self.totalfunctional(self.rho0, calcType=['V']).potential\n",
    "        hamiltonian = Hamiltonian(v=potential)\n",
    "        self.prop = Propagator(hamiltonian, interval, name='crank-nicholson')\n",
    "        self.dipole = []\n",
    "        self.attach(self.calc_dipole) # this attaches the calc_dipole function to the observers list which runs after each time step.\n",
    "\n",
    "    def step(self):\n",
    "        self.psi, info = self.prop(self.psi)\n",
    "        self.rho = calc_rho(self.psi)\n",
    "        #self.j = calc_j(self.psi)\n",
    "        #potential = self.totalfunctional(self.rho, current=self.j, calcType=['V']).potential\n",
    "        potential = self.totalfunctional(self.rho, calcType=['V']).potential\n",
    "        self.prop.hamiltonian.v = potential\n",
    "        print(\"\\r\", end=\"\")\n",
    "        print(f\"Progress: [{self.nsteps+1}/{self.max_steps}]\", \"|\" * (self.nsteps*50 // self.max_steps), end=\"\", flush=True)\n",
    "\n",
    "    def calc_dipole(self):\n",
    "        delta_rho = self.rho - self.rho0\n",
    "        delta_mu = (delta_rho * delta_rho.grid.r).integral()\n",
    "        self.dipole.append(delta_mu)"
   ]
  },
  {
   "cell_type": "code",
   "execution_count": 47,
   "id": "6eb46c73",
   "metadata": {
    "slideshow": {
     "slide_type": "slide"
    }
   },
   "outputs": [
    {
     "name": "stdout",
     "output_type": "stream",
     "text": [
      "Progress: [5000/5000] |||||||||||||||||||||||||||||||||||||||||||||||||"
     ]
    },
    {
     "data": {
      "text/plain": [
       "False"
      ]
     },
     "execution_count": 47,
     "metadata": {},
     "output_type": "execute_result"
    }
   ],
   "source": [
    "max_steps = 5000\n",
    "runner = Runner(rho0, totalfunctional, k, direction, interval, max_steps)\n",
    "runner()"
   ]
  },
  {
   "cell_type": "code",
   "execution_count": 48,
   "id": "d9694650-2e43-425b-a0e9-6789d0ae7b1f",
   "metadata": {},
   "outputs": [],
   "source": [
    "t = np.linspace(0, interval * max_steps, max_steps + 1)\n",
    "mu = np.asarray(runner.dipole)"
   ]
  },
  {
   "cell_type": "markdown",
   "id": "fe87eea8",
   "metadata": {},
   "source": [
    "## Extraction of the optical spectrum\n",
    "\n",
    "The time-dependent dipole moment change:\n",
    "$$\n",
    "\\delta\\mu(t) = \\mu(t)-\\mu(t_0)\n",
    "$$"
   ]
  },
  {
   "cell_type": "markdown",
   "id": "9eefce12-8568-4eb2-93ee-2c87bc94401f",
   "metadata": {},
   "source": [
    "is related to the oscillator strength by Fourier transform\n",
    "$$\n",
    "S(\\omega)=-\\frac{2\\omega}{k\\pi}  \\delta\\mu(\\omega) = -\\frac{2\\omega}{k\\pi} \\int_{t_0}^{t} \\delta\\mu(t)e^{i\\omega t} dt \n",
    "$$"
   ]
  },
  {
   "cell_type": "markdown",
   "id": "a2019f52-717f-4a7b-9ab6-29fedd09ce22",
   "metadata": {},
   "source": [
    "### Let's look at the time-dependent dipole moment"
   ]
  },
  {
   "cell_type": "code",
   "execution_count": 49,
   "id": "d0652174-c8bd-4a99-8bfd-829bde91dcfd",
   "metadata": {},
   "outputs": [
    {
     "data": {
      "text/plain": [
       "Text(0, 0.5, 'Dipole Moment (au)')"
      ]
     },
     "execution_count": 49,
     "metadata": {},
     "output_type": "execute_result"
    },
    {
     "data": {
      "image/png": "[encoded data removed]",
      "text/plain": [
       "<Figure size 640x480 with 1 Axes>"
      ]
     },
     "metadata": {},
     "output_type": "display_data"
    }
   ],
   "source": [
    "delta_mu = mu[:,0] - mu[0,0]\n",
    "plt.plot(t, delta_mu)\n",
    "plt.xlabel('Time (au)')\n",
    "plt.ylabel('Dipole Moment (au)')"
   ]
  },
  {
   "cell_type": "markdown",
   "id": "a9bb2926",
   "metadata": {
    "slideshow": {
     "slide_type": "slide"
    }
   },
   "source": [
    "## Plot the optical spectra"
   ]
  },
  {
   "cell_type": "code",
   "execution_count": 50,
   "id": "0964a511-2bb8-404b-b559-6a046617f806",
   "metadata": {},
   "outputs": [],
   "source": [
    "KS_spectrum = np.loadtxt(fname='./KS_clusters/Mg8/Mg8_KS_spectrum.txt')"
   ]
  },
  {
   "cell_type": "code",
   "execution_count": 51,
   "id": "47bcdc31-0d8a-4f02-88b0-8d5a5dfc9c48",
   "metadata": {
    "slideshow": {
     "slide_type": "fragment"
    }
   },
   "outputs": [
    {
     "data": {
      "text/plain": [
       "(0.0, 20.0)"
      ]
     },
     "execution_count": 51,
     "metadata": {},
     "output_type": "execute_result"
    },
    {
     "data": {
      "image/png": "[encoded data removed]",
      "text/plain": [
       "<Figure size 640x480 with 1 Axes>"
      ]
     },
     "metadata": {},
     "output_type": "display_data"
    }
   ],
   "source": [
    "sigma = 0.03*(as2au**2)\n",
    "omega, spectra = calc_spectra_mu(delta_mu, interval, sigma=sigma, kick=k)\n",
    "plt.plot(omega*Units.Ha, spectra, '-',label='OFDFT')\n",
    "plt.plot(KS_spectrum[0], KS_spectrum[1], '--', label='KSDFT')\n",
    "plt.legend()\n",
    "plt.xlabel('Frequency (eV)')\n",
    "plt.ylabel('Intensity (au)')\n",
    "plt.xlim(0, 20)"
   ]
  },
  {
   "cell_type": "markdown",
   "id": "7bcf3841",
   "metadata": {
    "slideshow": {
     "slide_type": "slide"
    }
   },
   "source": [
    "## Challenge \n",
    "\n",
    "Calculate the optical spectra of your own cluster"
   ]
  },
  {
   "cell_type": "markdown",
   "id": "3381e13b",
   "metadata": {},
   "source": [
    "### Build a cluster with ASE\n"
   ]
  },
  {
   "cell_type": "code",
   "execution_count": 65,
   "id": "e4be1946",
   "metadata": {},
   "outputs": [],
   "source": [
    "from ase.cluster.cubic import FaceCenteredCubic\n",
    "\n",
    "surfaces = [(1, 0, 0), (1, 1, 0), (1, 1, 1)]\n",
    "layers = [1, 3, 2] # this could be a variable\n",
    "lc = 4.5 # this could be another variable\n",
    "atoms = FaceCenteredCubic('Mg', surfaces, layers, latticeconstant=lc)\n",
    "#atoms.set_cell([10,10,10])\n",
    "atoms.wrap()\n",
    "atoms.center(vacuum=10.0)"
   ]
  },
  {
   "cell_type": "code",
   "execution_count": 66,
   "id": "eb400e2e",
   "metadata": {},
   "outputs": [
    {
     "data": {
      "text/plain": [
       "13"
      ]
     },
     "execution_count": 66,
     "metadata": {},
     "output_type": "execute_result"
    }
   ],
   "source": [
    "atoms.get_global_number_of_atoms()"
   ]
  },
  {
   "cell_type": "code",
   "execution_count": 67,
   "id": "c1beacc7",
   "metadata": {
    "slideshow": {
     "slide_type": "subslide"
    }
   },
   "outputs": [
    {
     "data": {
      "application/3dmoljs_load.v0": "<div id=\"3dmolviewer_1749462905515685\"  style=\"position: relative; width: 640px; height: 480px;\">\n        <p id=\"3dmolwarning_1749462905515685\" style=\"background-color:#ffcccc;color:black\">3Dmol.js failed to load for some reason.  Please check your browser console for error messages.<br></p>\n        </div>\n<script>\n\nvar loadScriptAsync = function(uri){\n  return new Promise((resolve, reject) => {\n    //this is to ignore the existence of requirejs amd\n    var savedexports, savedmodule;\n    if (typeof exports !== 'undefined') savedexports = exports;\n    else exports = {}\n    if (typeof module !== 'undefined') savedmodule = module;\n    else module = {}\n\n    var tag = document.createElement('script');\n    tag.src = uri;\n    tag.async = true;\n    tag.onload = () => {\n        exports = savedexports;\n        module = savedmodule;\n        resolve();\n    };\n  var firstScriptTag = document.getElementsByTagName('script')[0];\n  firstScriptTag.parentNode.insertBefore(tag, firstScriptTag);\n});\n};\n\nif(typeof $3Dmolpromise === 'undefined') {\n$3Dmolpromise = null;\n  $3Dmolpromise = loadScriptAsync('https://cdnjs.cloudflare.com/ajax/libs/3Dmol/2.1.0/3Dmol-min.js');\n}\n\nvar viewer_1749462905515685 = null;\nvar warn = document.getElementById(\"3dmolwarning_1749462905515685\");\nif(warn) {\n    warn.parentNode.removeChild(warn);\n}\n$3Dmolpromise.then(function() {\nviewer_1749462905515685 = $3Dmol.createViewer(document.getElementById(\"3dmolviewer_1749462905515685\"),{backgroundColor:\"white\"});\nviewer_1749462905515685.addModel(\"13\\nLattice=\\\"24.5 0.0 0.0 0.0 24.5 0.0 0.0 0.0 24.5\\\" Properties=species:S:1:pos:R:3 pbc=\\\"F F F\\\"\\nMg      10.00000000      10.00000000      12.25000000\\nMg      10.00000000      12.25000000      10.00000000\\nMg      10.00000000      12.25000000      14.50000000\\nMg      10.00000000      14.50000000      12.25000000\\nMg      12.25000000      10.00000000      10.00000000\\nMg      12.25000000      10.00000000      14.50000000\\nMg      14.50000000      10.00000000      12.25000000\\nMg      12.25000000      14.50000000      10.00000000\\nMg      14.50000000      12.25000000      10.00000000\\nMg      12.25000000      12.25000000      12.25000000\\nMg      12.25000000      14.50000000      14.50000000\\nMg      14.50000000      12.25000000      14.50000000\\nMg      14.50000000      14.50000000      12.25000000\\n\");\nviewer_1749462905515685.setStyle(\"sphere\");\nviewer_1749462905515685.zoomTo();\n\tviewer_1749462905515685.addUnitCell();\n\tviewer_1749462905515685.zoomTo();\nviewer_1749462905515685.render();\n});\n</script>",
      "text/html": [
       "<div id=\"3dmolviewer_1749462905515685\"  style=\"position: relative; width: 640px; height: 480px;\">\n",
       "        <p id=\"3dmolwarning_1749462905515685\" style=\"background-color:#ffcccc;color:black\">3Dmol.js failed to load for some reason.  Please check your browser console for error messages.<br></p>\n",
       "        </div>\n",
       "<script>\n",
       "\n",
       "var loadScriptAsync = function(uri){\n",
       "  return new Promise((resolve, reject) => {\n",
       "    //this is to ignore the existence of requirejs amd\n",
       "    var savedexports, savedmodule;\n",
       "    if (typeof exports !== 'undefined') savedexports = exports;\n",
       "    else exports = {}\n",
       "    if (typeof module !== 'undefined') savedmodule = module;\n",
       "    else module = {}\n",
       "\n",
       "    var tag = document.createElement('script');\n",
       "    tag.src = uri;\n",
       "    tag.async = true;\n",
       "    tag.onload = () => {\n",
       "        exports = savedexports;\n",
       "        module = savedmodule;\n",
       "        resolve();\n",
       "    };\n",
       "  var firstScriptTag = document.getElementsByTagName('script')[0];\n",
       "  firstScriptTag.parentNode.insertBefore(tag, firstScriptTag);\n",
       "});\n",
       "};\n",
       "\n",
       "if(typeof $3Dmolpromise === 'undefined') {\n",
       "$3Dmolpromise = null;\n",
       "  $3Dmolpromise = loadScriptAsync('https://cdnjs.cloudflare.com/ajax/libs/3Dmol/2.1.0/3Dmol-min.js');\n",
       "}\n",
       "\n",
       "var viewer_1749462905515685 = null;\n",
       "var warn = document.getElementById(\"3dmolwarning_1749462905515685\");\n",
       "if(warn) {\n",
       "    warn.parentNode.removeChild(warn);\n",
       "}\n",
       "$3Dmolpromise.then(function() {\n",
       "viewer_1749462905515685 = $3Dmol.createViewer(document.getElementById(\"3dmolviewer_1749462905515685\"),{backgroundColor:\"white\"});\n",
       "viewer_1749462905515685.addModel(\"13\\nLattice=\\\"24.5 0.0 0.0 0.0 24.5 0.0 0.0 0.0 24.5\\\" Properties=species:S:1:pos:R:3 pbc=\\\"F F F\\\"\\nMg      10.00000000      10.00000000      12.25000000\\nMg      10.00000000      12.25000000      10.00000000\\nMg      10.00000000      12.25000000      14.50000000\\nMg      10.00000000      14.50000000      12.25000000\\nMg      12.25000000      10.00000000      10.00000000\\nMg      12.25000000      10.00000000      14.50000000\\nMg      14.50000000      10.00000000      12.25000000\\nMg      12.25000000      14.50000000      10.00000000\\nMg      14.50000000      12.25000000      10.00000000\\nMg      12.25000000      12.25000000      12.25000000\\nMg      12.25000000      14.50000000      14.50000000\\nMg      14.50000000      12.25000000      14.50000000\\nMg      14.50000000      14.50000000      12.25000000\\n\");\n",
       "viewer_1749462905515685.setStyle(\"sphere\");\n",
       "viewer_1749462905515685.zoomTo();\n",
       "\tviewer_1749462905515685.addUnitCell();\n",
       "\tviewer_1749462905515685.zoomTo();\n",
       "viewer_1749462905515685.render();\n",
       "});\n",
       "</script>"
      ]
     },
     "metadata": {},
     "output_type": "display_data"
    }
   ],
   "source": [
    "import py3Dmol\n",
    "from ase.io import write\n",
    "write('cluster.xyz',atoms)\n",
    "v = py3Dmol.view(data=open('./cluster.xyz','r').read(), style='sphere',linked=False)\n",
    "v.addUnitCell()\n",
    "v.zoomTo()\n",
    "v.show()"
   ]
  },
  {
   "cell_type": "markdown",
   "id": "794fa144-eea3-4d7b-916c-8f67aa17b63c",
   "metadata": {},
   "source": [
    "# To build clusters of different atoms, use the following pseudopotentials:"
   ]
  },
  {
   "cell_type": "raw",
   "id": "3e6f6fe2-9bc1-4b18-b26d-a753a6071778",
   "metadata": {},
   "source": [
    "https://gitlab.com/wenhui/OEPP/-/tree/master/OEPP/UPF?ref_type=heads"
   ]
  },
  {
   "cell_type": "code",
   "execution_count": null,
   "id": "cc62d9e3-66bf-47b4-8153-b9643688ea91",
   "metadata": {},
   "outputs": [],
   "source": []
  }
 ],
 "metadata": {
  "celltoolbar": "Slideshow",
  "kernelspec": {
   "display_name": "Python 3 (ipykernel)",
   "language": "python",
   "name": "python3"
  },
  "language_info": {
   "codemirror_mode": {
    "name": "ipython",
    "version": 3
   },
   "file_extension": ".py",
   "mimetype": "text/x-python",
   "name": "python",
   "nbconvert_exporter": "python",
   "pygments_lexer": "ipython3",
   "version": "3.10.15"
  }
 },
 "nbformat": 4,
 "nbformat_minor": 5
}
